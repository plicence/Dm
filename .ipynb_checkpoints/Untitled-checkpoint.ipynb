{
 "cells": [
  {
   "cell_type": "code",
   "execution_count": 269,
   "metadata": {},
   "outputs": [],
   "source": [
    "import numpy as np"
   ]
  },
  {
   "cell_type": "code",
   "execution_count": 993,
   "metadata": {},
   "outputs": [],
   "source": [
    "class ReseauNeurones:\n",
    "    \n",
    "    def __init__(self, taille = 1):\n",
    "        self.taille = taille\n",
    "        self.liste_fonctions= None\n",
    "        self.x = None\n",
    "        self.y = None\n",
    "        self.w = []\n",
    "        self.b = []\n",
    "        self.liste_fonctions = []\n",
    "        self.liste_derivees = []\n",
    "        \n",
    "    def ajouter_couche(self, f_activation, derivee_f_activation, nb_neurones = 1):\n",
    "        self.liste_fonctions.append(f_activation)\n",
    "        self.liste_derivees.append(derivee_f_activation)\n",
    "        if(len(self.w)==0):\n",
    "            self.w.append(np.random.normal(size = (nb_neurones,self.taille)))\n",
    "        else:\n",
    "            print(\"herre\", len(self.w[len(self.w)-1]))\n",
    "            self.w.append(np.random.normal(size = (nb_neurones,len(self.w[len(self.w)-1]))))\n",
    "        self.b.append(np.random.normal(size = (nb_neurones,1)))\n",
    "        \n",
    "    def set_data(self, x, y):\n",
    "        self.x = x\n",
    "        self.y = y\n",
    "    \n",
    "    def propagation_avant(self):\n",
    "        z = []\n",
    "        a = []\n",
    "        ztmp=0\n",
    "        L = len(self.liste_fonctions)\n",
    "        print(\"Nombre couches:\", L)\n",
    "        x=self.x[0]\n",
    "        print(\"x vaut:\",x)\n",
    "        for l in range(0, L): #toutes les couches\n",
    "            print(\"Couche numéro :\", l)\n",
    "            w = self.w[l]\n",
    "            b = self.b[l]\n",
    "            print(\"b vaut :\", b)\n",
    "            n = len(w)\n",
    "            print(\"taille de w vaut : \", n)\n",
    "            print(n)\n",
    "            print(w)\n",
    "            for nloop in range(0, n): #tous les neurones de chaque couches\n",
    "                print(\"W=\",w[nloop])\n",
    "                print(\"Mutliplié par :\", x)\n",
    "                wn = w[nloop]\n",
    "                bn = b[nloop]\n",
    "                print(\"bn affiche :\", bn)\n",
    "                ztmp = wn.dot(x) + bn[0] #On calcul les différents z\n",
    "                print(\"ztmp vaut:\", ztmp)\n",
    "                ztmp = self.liste_fonctions[l](ztmp) #f(z)\n",
    "                z.append(ztmp)\n",
    "            print(z)\n",
    "            x = z\n",
    "            z = []\n",
    "            \n",
    "                #for i in range(0, self.taille): #caractéristiques d'un neurone\n",
    "                 #   print(\"Caractéristique i\", wn[i])\n",
    "                 #   print(\"Valeur xi\",x)\n",
    "            \n",
    "            \"\"\"ztmp += w[i].dot(x[i])\n",
    "            ztmp += b\n",
    "            z.append(ztmp)\n",
    "            \"\"\"\n",
    "        \n",
    "        pass\n",
    "        \n",
    "    def retropropagation(self, nabla_C): \n",
    "        pass\n",
    "    \n",
    "    def pas_gradient(self, taux_apprentissage):\n",
    "        pass\n",
    "    \n",
    "    def relu(self):\n",
    "        return lambda t : max(0,t)\n",
    "    \n",
    "    def relu_derivee(self):\n",
    "        return lambda t : t\n",
    "    \n",
    "    def identite(self):\n",
    "        return lambda t : t\n",
    "    \n",
    "    def identite_derivee(self):\n",
    "        return lambda t : 1\n",
    "        \n",
    "        "
   ]
  },
  {
   "cell_type": "code",
   "execution_count": 994,
   "metadata": {},
   "outputs": [
    {
     "ename": "TypeError",
     "evalue": "relu() takes 1 positional argument but 2 were given",
     "output_type": "error",
     "traceback": [
      "\u001b[1;31m---------------------------------------------------------------------------\u001b[0m",
      "\u001b[1;31mTypeError\u001b[0m                                 Traceback (most recent call last)",
      "\u001b[1;32m<ipython-input-994-d50e073dff41>\u001b[0m in \u001b[0;36m<module>\u001b[1;34m\u001b[0m\n\u001b[0;32m      1\u001b[0m \u001b[0mr\u001b[0m \u001b[1;33m=\u001b[0m \u001b[0mReseauNeurones\u001b[0m\u001b[1;33m(\u001b[0m\u001b[1;36m3\u001b[0m\u001b[1;33m)\u001b[0m\u001b[1;33m\u001b[0m\u001b[1;33m\u001b[0m\u001b[0m\n\u001b[1;32m----> 2\u001b[1;33m \u001b[0mr\u001b[0m\u001b[1;33m.\u001b[0m\u001b[0mrelu\u001b[0m\u001b[1;33m(\u001b[0m\u001b[1;36m2\u001b[0m\u001b[1;33m)\u001b[0m\u001b[1;33m\u001b[0m\u001b[1;33m\u001b[0m\u001b[0m\n\u001b[0m",
      "\u001b[1;31mTypeError\u001b[0m: relu() takes 1 positional argument but 2 were given"
     ]
    }
   ],
   "source": [
    "r = ReseauNeurones(3)\n",
    "r.relu(2)"
   ]
  },
  {
   "cell_type": "code",
   "execution_count": 995,
   "metadata": {},
   "outputs": [
    {
     "name": "stdout",
     "output_type": "stream",
     "text": [
      "[[-0.48979114  0.49377963  0.27430787  0.82786453]\n",
      " [ 1.63436408  0.39619866 -1.36812022 -0.8328399 ]\n",
      " [-0.29425489 -0.49866363  0.42603942 -1.44049007]\n",
      " [ 0.15163175  0.93153204  0.19867233  0.3980729 ]\n",
      " [-0.77347677 -0.45432312  1.79687748  0.05735324]]\n"
     ]
    },
    {
     "data": {
      "text/plain": [
       "array([[-0.48979114,  1.63436408, -0.29425489,  0.15163175, -0.77347677],\n",
       "       [ 0.49377963,  0.39619866, -0.49866363,  0.93153204, -0.45432312],\n",
       "       [ 0.27430787, -1.36812022,  0.42603942,  0.19867233,  1.79687748],\n",
       "       [ 0.82786453, -0.8328399 , -1.44049007,  0.3980729 ,  0.05735324]])"
      ]
     },
     "execution_count": 995,
     "metadata": {},
     "output_type": "execute_result"
    }
   ],
   "source": [
    "a= np.random.randn(5,4)\n",
    "print(a)\n",
    "a.T\n",
    "\n"
   ]
  },
  {
   "cell_type": "code",
   "execution_count": 996,
   "metadata": {},
   "outputs": [
    {
     "ename": "ValueError",
     "evalue": "all the input array dimensions for the concatenation axis must match exactly, but along dimension 1, the array at index 0 has size 4 and the array at index 1 has size 2",
     "output_type": "error",
     "traceback": [
      "\u001b[1;31m---------------------------------------------------------------------------\u001b[0m",
      "\u001b[1;31mValueError\u001b[0m                                Traceback (most recent call last)",
      "\u001b[1;32m<ipython-input-996-dae3e976b66b>\u001b[0m in \u001b[0;36m<module>\u001b[1;34m\u001b[0m\n\u001b[0;32m      1\u001b[0m \u001b[0mA\u001b[0m\u001b[1;33m=\u001b[0m\u001b[1;33m[\u001b[0m\u001b[1;33m]\u001b[0m\u001b[1;33m\u001b[0m\u001b[1;33m\u001b[0m\u001b[0m\n\u001b[1;32m----> 2\u001b[1;33m \u001b[0mtest\u001b[0m\u001b[1;33m=\u001b[0m\u001b[0mnp\u001b[0m\u001b[1;33m.\u001b[0m\u001b[0mappend\u001b[0m\u001b[1;33m(\u001b[0m\u001b[0ma\u001b[0m\u001b[1;33m,\u001b[0m\u001b[1;33m[\u001b[0m\u001b[1;33m[\u001b[0m\u001b[1;36m1\u001b[0m\u001b[1;33m,\u001b[0m\u001b[1;36m1\u001b[0m\u001b[1;33m]\u001b[0m\u001b[1;33m]\u001b[0m\u001b[1;33m,\u001b[0m\u001b[0maxis\u001b[0m\u001b[1;33m=\u001b[0m\u001b[1;36m0\u001b[0m\u001b[1;33m)\u001b[0m\u001b[1;33m\u001b[0m\u001b[1;33m\u001b[0m\u001b[0m\n\u001b[0m\u001b[0;32m      3\u001b[0m \u001b[0mprint\u001b[0m\u001b[1;33m(\u001b[0m\u001b[0mtest\u001b[0m\u001b[1;33m)\u001b[0m\u001b[1;33m\u001b[0m\u001b[1;33m\u001b[0m\u001b[0m\n",
      "\u001b[1;32m<__array_function__ internals>\u001b[0m in \u001b[0;36mappend\u001b[1;34m(*args, **kwargs)\u001b[0m\n",
      "\u001b[1;32m~\\anaconda3\\lib\\site-packages\\numpy\\lib\\function_base.py\u001b[0m in \u001b[0;36mappend\u001b[1;34m(arr, values, axis)\u001b[0m\n\u001b[0;32m   4669\u001b[0m         \u001b[0mvalues\u001b[0m \u001b[1;33m=\u001b[0m \u001b[0mravel\u001b[0m\u001b[1;33m(\u001b[0m\u001b[0mvalues\u001b[0m\u001b[1;33m)\u001b[0m\u001b[1;33m\u001b[0m\u001b[1;33m\u001b[0m\u001b[0m\n\u001b[0;32m   4670\u001b[0m         \u001b[0maxis\u001b[0m \u001b[1;33m=\u001b[0m \u001b[0marr\u001b[0m\u001b[1;33m.\u001b[0m\u001b[0mndim\u001b[0m\u001b[1;33m-\u001b[0m\u001b[1;36m1\u001b[0m\u001b[1;33m\u001b[0m\u001b[1;33m\u001b[0m\u001b[0m\n\u001b[1;32m-> 4671\u001b[1;33m     \u001b[1;32mreturn\u001b[0m \u001b[0mconcatenate\u001b[0m\u001b[1;33m(\u001b[0m\u001b[1;33m(\u001b[0m\u001b[0marr\u001b[0m\u001b[1;33m,\u001b[0m \u001b[0mvalues\u001b[0m\u001b[1;33m)\u001b[0m\u001b[1;33m,\u001b[0m \u001b[0maxis\u001b[0m\u001b[1;33m=\u001b[0m\u001b[0maxis\u001b[0m\u001b[1;33m)\u001b[0m\u001b[1;33m\u001b[0m\u001b[1;33m\u001b[0m\u001b[0m\n\u001b[0m\u001b[0;32m   4672\u001b[0m \u001b[1;33m\u001b[0m\u001b[0m\n\u001b[0;32m   4673\u001b[0m \u001b[1;33m\u001b[0m\u001b[0m\n",
      "\u001b[1;32m<__array_function__ internals>\u001b[0m in \u001b[0;36mconcatenate\u001b[1;34m(*args, **kwargs)\u001b[0m\n",
      "\u001b[1;31mValueError\u001b[0m: all the input array dimensions for the concatenation axis must match exactly, but along dimension 1, the array at index 0 has size 4 and the array at index 1 has size 2"
     ]
    }
   ],
   "source": [
    "A=[]\n",
    "test=np.append(a,[[1,1]],axis=0)\n",
    "print(test)"
   ]
  },
  {
   "cell_type": "code",
   "execution_count": 997,
   "metadata": {},
   "outputs": [
    {
     "name": "stdout",
     "output_type": "stream",
     "text": [
      "[ 0.82786453 -0.8328399  -1.44049007  0.3980729   0.05735324]\n",
      "[ 0.82786453 -0.8328399  -1.44049007  0.3980729   0.05735324]\n",
      "[[-0.48979114  0.49377963  0.27430787]\n",
      " [ 1.63436408  0.39619866 -1.36812022]\n",
      " [-0.29425489 -0.49866363  0.42603942]\n",
      " [ 0.15163175  0.93153204  0.19867233]\n",
      " [-0.77347677 -0.45432312  1.79687748]]\n"
     ]
    }
   ],
   "source": [
    "r.set_data(a[:,0:3],a[:,3])\n",
    "print(r.y)\n",
    "print(r.y.T)\n",
    "print(r.x)"
   ]
  },
  {
   "cell_type": "code",
   "execution_count": 998,
   "metadata": {},
   "outputs": [
    {
     "name": "stdout",
     "output_type": "stream",
     "text": [
      "1\n",
      "2\n",
      "herre 5\n",
      "[array([[-1.65578562,  0.39353902, -0.45188502],\n",
      "       [ 0.62626848,  0.68948211,  0.38168522],\n",
      "       [-0.70190861,  0.091122  , -0.57940627],\n",
      "       [-0.84863302,  1.34342913, -0.99396346],\n",
      "       [ 0.10819888,  0.11184965,  0.87858973]]), array([[-0.04321229, -0.20328757,  0.67040223, -1.63601048, -0.95843785],\n",
      "       [ 0.38770804,  0.28455497, -0.58047393, -1.00112436,  0.44937121]])]\n",
      "0\n",
      "-1\n"
     ]
    }
   ],
   "source": [
    "print(1)\n",
    "r.ajouter_couche(r.relu(),r.relu_derivee(),5)\n",
    "print(2)\n",
    "r.ajouter_couche(r.identite(),r.identite_derivee,2)\n",
    "print(r.w)\n",
    "print(r.liste_fonctions[0](-10))\n",
    "print(r.liste_fonctions[1](-1))"
   ]
  },
  {
   "cell_type": "code",
   "execution_count": 999,
   "metadata": {},
   "outputs": [
    {
     "name": "stdout",
     "output_type": "stream",
     "text": [
      "Nombre couches: 2\n",
      "x vaut: [-0.48979114  0.49377963  0.27430787]\n",
      "Couche numéro : 0\n",
      "b vaut : [[-0.19293518]\n",
      " [ 1.1153242 ]\n",
      " [ 0.12566626]\n",
      " [ 0.03465655]\n",
      " [-1.68741515]]\n",
      "taille de w vaut :  5\n",
      "5\n",
      "[[-1.65578562  0.39353902 -0.45188502]\n",
      " [ 0.62626848  0.68948211  0.38168522]\n",
      " [-0.70190861  0.091122   -0.57940627]\n",
      " [-0.84863302  1.34342913 -0.99396346]\n",
      " [ 0.10819888  0.11184965  0.87858973]]\n",
      "W= [-1.65578562  0.39353902 -0.45188502]\n",
      "Mutliplié par : [-0.48979114  0.49377963  0.27430787]\n",
      "bn affiche : [-0.19293518]\n",
      "ztmp vaut: 0.6884198751662481\n",
      "W= [0.62626848 0.68948211 0.38168522]\n",
      "Mutliplié par : [-0.48979114  0.49377963  0.27430787]\n",
      "bn affiche : [1.1153242]\n",
      "ztmp vaut: 1.2537349300594496\n",
      "W= [-0.70190861  0.091122   -0.57940627]\n",
      "Mutliplié par : [-0.48979114  0.49377963  0.27430787]\n",
      "bn affiche : [0.12566626]\n",
      "ztmp vaut: 0.35551336732182065\n",
      "W= [-0.84863302  1.34342913 -0.99396346]\n",
      "Mutliplié par : [-0.48979114  0.49377963  0.27430787]\n",
      "bn affiche : [0.03465655]\n",
      "ztmp vaut: 0.8410154092039993\n",
      "W= [0.10819888 0.11184965 0.87858973]\n",
      "Mutliplié par : [-0.48979114  0.49377963  0.27430787]\n",
      "bn affiche : [-1.68741515]\n",
      "ztmp vaut: -1.4441768440956373\n",
      "[0.6884198751662481, 1.2537349300594496, 0.35551336732182065, 0.8410154092039993, 0]\n",
      "Couche numéro : 1\n",
      "b vaut : [[-0.9624894 ]\n",
      " [ 0.12674924]]\n",
      "taille de w vaut :  2\n",
      "2\n",
      "[[-0.04321229 -0.20328757  0.67040223 -1.63601048 -0.95843785]\n",
      " [ 0.38770804  0.28455497 -0.58047393 -1.00112436  0.44937121]]\n",
      "W= [-0.04321229 -0.20328757  0.67040223 -1.63601048 -0.95843785]\n",
      "Mutliplié par : [0.6884198751662481, 1.2537349300594496, 0.35551336732182065, 0.8410154092039993, 0]\n",
      "bn affiche : [-0.9624894]\n",
      "ztmp vaut: -2.384679399357281\n",
      "W= [ 0.38770804  0.28455497 -0.58047393 -1.00112436  0.44937121]\n",
      "Mutliplié par : [0.6884198751662481, 1.2537349300594496, 0.35551336732182065, 0.8410154092039993, 0]\n",
      "bn affiche : [0.12674924]\n",
      "ztmp vaut: -0.29791558778526994\n",
      "[-2.384679399357281, -0.29791558778526994]\n"
     ]
    }
   ],
   "source": [
    "r.propagation_avant()"
   ]
  },
  {
   "cell_type": "code",
   "execution_count": null,
   "metadata": {},
   "outputs": [],
   "source": []
  },
  {
   "cell_type": "code",
   "execution_count": 978,
   "metadata": {},
   "outputs": [
    {
     "data": {
      "text/plain": [
       "0"
      ]
     },
     "execution_count": 978,
     "metadata": {},
     "output_type": "execute_result"
    }
   ],
   "source": [
    "test = []\n",
    "len(test)"
   ]
  },
  {
   "cell_type": "code",
   "execution_count": null,
   "metadata": {},
   "outputs": [],
   "source": []
  },
  {
   "cell_type": "code",
   "execution_count": null,
   "metadata": {},
   "outputs": [],
   "source": []
  }
 ],
 "metadata": {
  "kernelspec": {
   "display_name": "Python 3",
   "language": "python",
   "name": "python3"
  },
  "language_info": {
   "codemirror_mode": {
    "name": "ipython",
    "version": 3
   },
   "file_extension": ".py",
   "mimetype": "text/x-python",
   "name": "python",
   "nbconvert_exporter": "python",
   "pygments_lexer": "ipython3",
   "version": "3.8.5"
  }
 },
 "nbformat": 4,
 "nbformat_minor": 4
}
