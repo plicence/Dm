{
 "cells": [
  {
   "cell_type": "code",
   "execution_count": 1,
   "metadata": {},
   "outputs": [],
   "source": [
    "import numpy as np"
   ]
  },
  {
   "cell_type": "code",
   "execution_count": null,
   "metadata": {},
   "outputs": [],
   "source": [
    "class ReseauNeurones:\n",
    "    \n",
    "    def __init__(self, taille = 1, liste_matrices, liste_fonctions):\n",
    "        self.taille = taille\n",
    "        self.liste_matrices = liste_matrices\n",
    "        self.liste_fonctions = liste_fonctions\n",
    "        \n",
    "    def ajouter_couche(self, nb_neurones = 1, f_activation, derivee_f_activation):\n",
    "        self.liste_fonctions.add(f_activation)\n",
    "        \n",
    "        \n",
    "    def propagation_avant(self):\n",
    "        pass\n",
    "        \n",
    "    def retropropagation(nabla_C) : \n",
    "        pass"
   ]
  }
 ],
 "metadata": {
  "kernelspec": {
   "display_name": "Python 3",
   "language": "python",
   "name": "python3"
  },
  "language_info": {
   "codemirror_mode": {
    "name": "ipython",
    "version": 3
   },
   "file_extension": ".py",
   "mimetype": "text/x-python",
   "name": "python",
   "nbconvert_exporter": "python",
   "pygments_lexer": "ipython3",
   "version": "3.8.5"
  }
 },
 "nbformat": 4,
 "nbformat_minor": 4
}
