{
 "cells": [
  {
   "cell_type": "code",
   "execution_count": 269,
   "metadata": {},
   "outputs": [],
   "source": [
    "import numpy as np"
   ]
  },
  {
   "cell_type": "code",
   "execution_count": 1294,
   "metadata": {},
   "outputs": [],
   "source": [
    "class ReseauNeurones:\n",
    "    \n",
    "    def __init__(self, taille = 1):\n",
    "        self.taille = taille\n",
    "        self.liste_fonctions= None\n",
    "        self.x = None\n",
    "        self.y = None\n",
    "        self.w = []\n",
    "        self.b = []\n",
    "        self.liste_fonctions = []\n",
    "        self.liste_derivees = []\n",
    "        self.zsave = []\n",
    "        self.asave = []\n",
    "        self.prediction = None\n",
    "        \n",
    "    def ajouter_couche(self, f_activation, derivee_f_activation, nb_neurones = 1):\n",
    "        self.liste_fonctions.append(f_activation)\n",
    "        self.liste_derivees.append(derivee_f_activation)\n",
    "        if(len(self.w)==0):\n",
    "            self.w.append(np.random.normal(size = (nb_neurones,self.taille)))\n",
    "        else:\n",
    "            print(\"herre\", len(self.w[len(self.w)-1]))\n",
    "            self.w.append(np.random.normal(size = (nb_neurones,len(self.w[len(self.w)-1]))))\n",
    "        self.b.append(np.random.normal(size = (nb_neurones,1)))\n",
    "        \n",
    "    def set_data(self, x, y):\n",
    "        self.x = x\n",
    "        self.y = y\n",
    "    \n",
    "    def propagation_avant(self):\n",
    "        z = []\n",
    "        a = []\n",
    "        ztmp=0\n",
    "        L = len(self.liste_fonctions)\n",
    "        print(\"Nombre couches:\", L)\n",
    "        x=self.x[0]\n",
    "        print(\"x vaut:\",x)\n",
    "        for l in range(0, L): #toutes les couches\n",
    "            print(\"Couche numéro :\", l)\n",
    "            w = self.w[l]\n",
    "            b = self.b[l]\n",
    "            print(\"b vaut :\", b)\n",
    "            n = len(w)\n",
    "            print(\"taille de w vaut : \", n)\n",
    "            print(n)\n",
    "            print(w)\n",
    "            for nloop in range(0, n): #tous les neurones de chaque couches\n",
    "                print(\"W=\",w[nloop])\n",
    "                print(\"Mutliplié par :\", x)\n",
    "                wn = w[nloop]\n",
    "                bn = b[nloop]\n",
    "                print(\"bn affiche :\", bn)\n",
    "                ztmp = wn.dot(x) + bn[0] #On calcul les différents z\n",
    "                z.append(ztmp)\n",
    "                print(\"ztmp vaut:\", ztmp)\n",
    "                ztmp = self.liste_fonctions[l](ztmp) #f(z)\n",
    "                a.append(ztmp)\n",
    "            print(a)\n",
    "            x = a\n",
    "            self.asave.append(a)\n",
    "            self.zsave.append(z)\n",
    "            a = []\n",
    "            z = []\n",
    "            \n",
    "                #for i in range(0, self.taille): #caractéristiques d'un neurone\n",
    "                 #   print(\"Caractéristique i\", wn[i])\n",
    "                 #   print(\"Valeur xi\",x)\n",
    "            \n",
    "            \"\"\"ztmp += w[i].dot(x[i])\n",
    "            ztmp += b\n",
    "            z.append(ztmp)\n",
    "            \"\"\"\n",
    "        \n",
    "        r.prediction = ztmp\n",
    "        \n",
    "    def retropropagation(self, nabla_C): \n",
    "        L = len(self.liste_fonctions)\n",
    "        for l in range(L-1,-1,-1):\n",
    "            print(\"l\",l)\n",
    "            ga = nabla_C\n",
    "            gz = []\n",
    "            for k in range(0, len(nabla_C)):\n",
    "                print(\"jsp\",self.zsave[l])\n",
    "                #gz.append(nabla_C[k]*self.liste_derivees[l](self.zsave[k]))\n",
    "            #gz = ga * self.liste_derivees()\n",
    "        \n",
    "        \n",
    "    \n",
    "    def pas_gradient(self, taux_apprentissage):\n",
    "        pass\n",
    "    \n",
    "    def relu(self):\n",
    "        return lambda t : max(0,t)\n",
    "    \n",
    "    def relu_derivee(self):\n",
    "        return lambda t : t\n",
    "    \n",
    "    def identite(self):\n",
    "        return lambda t : t\n",
    "    \n",
    "    def identite_derivee(self):\n",
    "        return lambda t : 1\n",
    "    \n",
    "    def cout_quadratique(self,y,prediction):\n",
    "        return (prediction-y)**2\n",
    "        \n",
    "    def cout_quadratique_derivee(self,y,prediction) : \n",
    "        return 2*(prediction-y)"
   ]
  },
  {
   "cell_type": "code",
   "execution_count": 1295,
   "metadata": {},
   "outputs": [
    {
     "ename": "TypeError",
     "evalue": "relu() takes 1 positional argument but 2 were given",
     "output_type": "error",
     "traceback": [
      "\u001b[1;31m---------------------------------------------------------------------------\u001b[0m",
      "\u001b[1;31mTypeError\u001b[0m                                 Traceback (most recent call last)",
      "\u001b[1;32m<ipython-input-1295-d50e073dff41>\u001b[0m in \u001b[0;36m<module>\u001b[1;34m\u001b[0m\n\u001b[0;32m      1\u001b[0m \u001b[0mr\u001b[0m \u001b[1;33m=\u001b[0m \u001b[0mReseauNeurones\u001b[0m\u001b[1;33m(\u001b[0m\u001b[1;36m3\u001b[0m\u001b[1;33m)\u001b[0m\u001b[1;33m\u001b[0m\u001b[1;33m\u001b[0m\u001b[0m\n\u001b[1;32m----> 2\u001b[1;33m \u001b[0mr\u001b[0m\u001b[1;33m.\u001b[0m\u001b[0mrelu\u001b[0m\u001b[1;33m(\u001b[0m\u001b[1;36m2\u001b[0m\u001b[1;33m)\u001b[0m\u001b[1;33m\u001b[0m\u001b[1;33m\u001b[0m\u001b[0m\n\u001b[0m",
      "\u001b[1;31mTypeError\u001b[0m: relu() takes 1 positional argument but 2 were given"
     ]
    }
   ],
   "source": [
    "r = ReseauNeurones(3)\n",
    "r.relu(2)"
   ]
  },
  {
   "cell_type": "code",
   "execution_count": 1296,
   "metadata": {},
   "outputs": [
    {
     "name": "stdout",
     "output_type": "stream",
     "text": [
      "[[-0.97459635 -0.08949102  0.19070527 -1.25172103]\n",
      " [ 0.10654408 -1.31408742 -1.14198433 -1.17432008]\n",
      " [-1.22818245  0.11080489  1.13196806  1.21242115]\n",
      " [ 0.60608883 -0.6763299  -1.49426718  1.11665591]\n",
      " [-0.11901113  1.0109121  -0.25763684 -0.16720281]]\n"
     ]
    },
    {
     "data": {
      "text/plain": [
       "array([[-0.97459635,  0.10654408, -1.22818245,  0.60608883, -0.11901113],\n",
       "       [-0.08949102, -1.31408742,  0.11080489, -0.6763299 ,  1.0109121 ],\n",
       "       [ 0.19070527, -1.14198433,  1.13196806, -1.49426718, -0.25763684],\n",
       "       [-1.25172103, -1.17432008,  1.21242115,  1.11665591, -0.16720281]])"
      ]
     },
     "execution_count": 1296,
     "metadata": {},
     "output_type": "execute_result"
    }
   ],
   "source": [
    "a= np.random.randn(5,4)\n",
    "print(a)\n",
    "a.T\n",
    "\n"
   ]
  },
  {
   "cell_type": "code",
   "execution_count": 1297,
   "metadata": {},
   "outputs": [
    {
     "ename": "ValueError",
     "evalue": "all the input array dimensions for the concatenation axis must match exactly, but along dimension 1, the array at index 0 has size 4 and the array at index 1 has size 2",
     "output_type": "error",
     "traceback": [
      "\u001b[1;31m---------------------------------------------------------------------------\u001b[0m",
      "\u001b[1;31mValueError\u001b[0m                                Traceback (most recent call last)",
      "\u001b[1;32m<ipython-input-1297-dae3e976b66b>\u001b[0m in \u001b[0;36m<module>\u001b[1;34m\u001b[0m\n\u001b[0;32m      1\u001b[0m \u001b[0mA\u001b[0m\u001b[1;33m=\u001b[0m\u001b[1;33m[\u001b[0m\u001b[1;33m]\u001b[0m\u001b[1;33m\u001b[0m\u001b[1;33m\u001b[0m\u001b[0m\n\u001b[1;32m----> 2\u001b[1;33m \u001b[0mtest\u001b[0m\u001b[1;33m=\u001b[0m\u001b[0mnp\u001b[0m\u001b[1;33m.\u001b[0m\u001b[0mappend\u001b[0m\u001b[1;33m(\u001b[0m\u001b[0ma\u001b[0m\u001b[1;33m,\u001b[0m\u001b[1;33m[\u001b[0m\u001b[1;33m[\u001b[0m\u001b[1;36m1\u001b[0m\u001b[1;33m,\u001b[0m\u001b[1;36m1\u001b[0m\u001b[1;33m]\u001b[0m\u001b[1;33m]\u001b[0m\u001b[1;33m,\u001b[0m\u001b[0maxis\u001b[0m\u001b[1;33m=\u001b[0m\u001b[1;36m0\u001b[0m\u001b[1;33m)\u001b[0m\u001b[1;33m\u001b[0m\u001b[1;33m\u001b[0m\u001b[0m\n\u001b[0m\u001b[0;32m      3\u001b[0m \u001b[0mprint\u001b[0m\u001b[1;33m(\u001b[0m\u001b[0mtest\u001b[0m\u001b[1;33m)\u001b[0m\u001b[1;33m\u001b[0m\u001b[1;33m\u001b[0m\u001b[0m\n",
      "\u001b[1;32m<__array_function__ internals>\u001b[0m in \u001b[0;36mappend\u001b[1;34m(*args, **kwargs)\u001b[0m\n",
      "\u001b[1;32m~\\anaconda3\\lib\\site-packages\\numpy\\lib\\function_base.py\u001b[0m in \u001b[0;36mappend\u001b[1;34m(arr, values, axis)\u001b[0m\n\u001b[0;32m   4669\u001b[0m         \u001b[0mvalues\u001b[0m \u001b[1;33m=\u001b[0m \u001b[0mravel\u001b[0m\u001b[1;33m(\u001b[0m\u001b[0mvalues\u001b[0m\u001b[1;33m)\u001b[0m\u001b[1;33m\u001b[0m\u001b[1;33m\u001b[0m\u001b[0m\n\u001b[0;32m   4670\u001b[0m         \u001b[0maxis\u001b[0m \u001b[1;33m=\u001b[0m \u001b[0marr\u001b[0m\u001b[1;33m.\u001b[0m\u001b[0mndim\u001b[0m\u001b[1;33m-\u001b[0m\u001b[1;36m1\u001b[0m\u001b[1;33m\u001b[0m\u001b[1;33m\u001b[0m\u001b[0m\n\u001b[1;32m-> 4671\u001b[1;33m     \u001b[1;32mreturn\u001b[0m \u001b[0mconcatenate\u001b[0m\u001b[1;33m(\u001b[0m\u001b[1;33m(\u001b[0m\u001b[0marr\u001b[0m\u001b[1;33m,\u001b[0m \u001b[0mvalues\u001b[0m\u001b[1;33m)\u001b[0m\u001b[1;33m,\u001b[0m \u001b[0maxis\u001b[0m\u001b[1;33m=\u001b[0m\u001b[0maxis\u001b[0m\u001b[1;33m)\u001b[0m\u001b[1;33m\u001b[0m\u001b[1;33m\u001b[0m\u001b[0m\n\u001b[0m\u001b[0;32m   4672\u001b[0m \u001b[1;33m\u001b[0m\u001b[0m\n\u001b[0;32m   4673\u001b[0m \u001b[1;33m\u001b[0m\u001b[0m\n",
      "\u001b[1;32m<__array_function__ internals>\u001b[0m in \u001b[0;36mconcatenate\u001b[1;34m(*args, **kwargs)\u001b[0m\n",
      "\u001b[1;31mValueError\u001b[0m: all the input array dimensions for the concatenation axis must match exactly, but along dimension 1, the array at index 0 has size 4 and the array at index 1 has size 2"
     ]
    }
   ],
   "source": [
    "A=[]\n",
    "test=np.append(a,[[1,1]],axis=0)\n",
    "print(test)"
   ]
  },
  {
   "cell_type": "code",
   "execution_count": 1298,
   "metadata": {},
   "outputs": [
    {
     "name": "stdout",
     "output_type": "stream",
     "text": [
      "[-1.25172103 -1.17432008  1.21242115  1.11665591 -0.16720281]\n",
      "[-1.25172103 -1.17432008  1.21242115  1.11665591 -0.16720281]\n",
      "[[-0.97459635 -0.08949102  0.19070527]\n",
      " [ 0.10654408 -1.31408742 -1.14198433]\n",
      " [-1.22818245  0.11080489  1.13196806]\n",
      " [ 0.60608883 -0.6763299  -1.49426718]\n",
      " [-0.11901113  1.0109121  -0.25763684]]\n"
     ]
    }
   ],
   "source": [
    "r.set_data(a[:,0:3],a[:,3])\n",
    "print(r.y)\n",
    "print(r.y.T)\n",
    "print(r.x)"
   ]
  },
  {
   "cell_type": "code",
   "execution_count": 1299,
   "metadata": {},
   "outputs": [
    {
     "name": "stdout",
     "output_type": "stream",
     "text": [
      "1\n",
      "2\n",
      "herre 5\n",
      "herre 2\n",
      "[array([[ 0.10107915,  1.02978115,  1.46806822],\n",
      "       [ 0.58231305, -1.73960394, -0.92533399],\n",
      "       [-2.16652507,  0.92067441,  0.31493018],\n",
      "       [-1.42468029, -0.8972991 , -1.99751921],\n",
      "       [ 0.04185561, -1.18353872,  1.46990453]]), array([[ 0.50582169,  1.42978086, -2.20115285,  0.05371516, -0.45200333],\n",
      "       [ 0.30503394,  0.61788545,  0.27968577, -0.3532119 ,  1.44009259]]), array([[2.0520916, 0.7999724]])]\n",
      "0\n",
      "-1\n"
     ]
    }
   ],
   "source": [
    "print(1)\n",
    "r.ajouter_couche(r.relu(),r.relu_derivee(),5)\n",
    "print(2)\n",
    "r.ajouter_couche(r.identite(),r.identite_derivee,2)\n",
    "r.ajouter_couche(r.identite(),r.identite_derivee,1)\n",
    "print(r.w)\n",
    "print(r.liste_fonctions[0](-10))\n",
    "print(r.liste_fonctions[1](-1))"
   ]
  },
  {
   "cell_type": "code",
   "execution_count": 1300,
   "metadata": {},
   "outputs": [
    {
     "name": "stdout",
     "output_type": "stream",
     "text": [
      "Nombre couches: 3\n",
      "x vaut: [-0.97459635 -0.08949102  0.19070527]\n",
      "Couche numéro : 0\n",
      "b vaut : [[ 0.25638936]\n",
      " [-0.06016019]\n",
      " [-0.27455812]\n",
      " [ 0.41116431]\n",
      " [ 0.08954496]]\n",
      "taille de w vaut :  5\n",
      "5\n",
      "[[ 0.10107915  1.02978115  1.46806822]\n",
      " [ 0.58231305 -1.73960394 -0.92533399]\n",
      " [-2.16652507  0.92067441  0.31493018]\n",
      " [-1.42468029 -0.8972991  -1.99751921]\n",
      " [ 0.04185561 -1.18353872  1.46990453]]\n",
      "W= [0.10107915 1.02978115 1.46806822]\n",
      "Mutliplié par : [-0.97459635 -0.08949102  0.19070527]\n",
      "bn affiche : [0.25638936]\n",
      "ztmp vaut: 0.3456901702028046\n",
      "W= [ 0.58231305 -1.73960394 -0.92533399]\n",
      "Mutliplié par : [-0.97459635 -0.08949102  0.19070527]\n",
      "bn affiche : [-0.06016019]\n",
      "ztmp vaut: -0.6484674997055857\n",
      "W= [-2.16652507  0.92067441  0.31493018]\n",
      "Mutliplié par : [-0.97459635 -0.08949102  0.19070527]\n",
      "bn affiche : [-0.27455812]\n",
      "ztmp vaut: 1.8145960722198033\n",
      "W= [-1.42468029 -0.8972991  -1.99751921]\n",
      "Mutliplié par : [-0.97459635 -0.08949102  0.19070527]\n",
      "bn affiche : [0.41116431]\n",
      "ztmp vaut: 1.4990152986102354\n",
      "W= [ 0.04185561 -1.18353872  1.46990453]\n",
      "Mutliplié par : [-0.97459635 -0.08949102  0.19070527]\n",
      "bn affiche : [0.08954496]\n",
      "ztmp vaut: 0.4349872600822104\n",
      "[0.3456901702028046, 0, 1.8145960722198033, 1.4990152986102354, 0.4349872600822104]\n",
      "Couche numéro : 1\n",
      "b vaut : [[-1.47653374]\n",
      " [ 1.76439325]]\n",
      "taille de w vaut :  2\n",
      "2\n",
      "[[ 0.50582169  1.42978086 -2.20115285  0.05371516 -0.45200333]\n",
      " [ 0.30503394  0.61788545  0.27968577 -0.3532119   1.44009259]]\n",
      "W= [ 0.50582169  1.42978086 -2.20115285  0.05371516 -0.45200333]\n",
      "Mutliplié par : [0.3456901702028046, 0, 1.8145960722198033, 1.4990152986102354, 0.4349872600822104]\n",
      "bn affiche : [-1.47653374]\n",
      "ztmp vaut: -5.4119753089398195\n",
      "W= [ 0.30503394  0.61788545  0.27968577 -0.3532119   1.44009259]\n",
      "Mutliplié par : [0.3456901702028046, 0, 1.8145960722198033, 1.4990152986102354, 0.4349872600822104]\n",
      "bn affiche : [1.76439325]\n",
      "ztmp vaut: 2.474309085667632\n",
      "[-5.4119753089398195, 2.474309085667632]\n",
      "Couche numéro : 2\n",
      "b vaut : [[0.55341681]]\n",
      "taille de w vaut :  1\n",
      "1\n",
      "[[2.0520916 0.7999724]]\n",
      "W= [2.0520916 0.7999724]\n",
      "Mutliplié par : [-5.4119753089398195, 2.474309085667632]\n",
      "bn affiche : [0.55341681]\n",
      "ztmp vaut: -8.573073309694228\n",
      "[-8.573073309694228]\n"
     ]
    }
   ],
   "source": [
    "r.propagation_avant()"
   ]
  },
  {
   "cell_type": "code",
   "execution_count": 1301,
   "metadata": {},
   "outputs": [
    {
     "data": {
      "text/plain": [
       "[[0.3456901702028046,\n",
       "  0,\n",
       "  1.8145960722198033,\n",
       "  1.4990152986102354,\n",
       "  0.4349872600822104],\n",
       " [-5.4119753089398195, 2.474309085667632],\n",
       " [-8.573073309694228]]"
      ]
     },
     "execution_count": 1301,
     "metadata": {},
     "output_type": "execute_result"
    }
   ],
   "source": [
    "r.asave"
   ]
  },
  {
   "cell_type": "code",
   "execution_count": 1302,
   "metadata": {},
   "outputs": [
    {
     "data": {
      "text/plain": [
       "0"
      ]
     },
     "execution_count": 1302,
     "metadata": {},
     "output_type": "execute_result"
    }
   ],
   "source": [
    "test = []\n",
    "len(test)"
   ]
  },
  {
   "cell_type": "code",
   "execution_count": 1303,
   "metadata": {},
   "outputs": [
    {
     "data": {
      "text/plain": [
       "[[0.3456901702028046,\n",
       "  -0.6484674997055857,\n",
       "  1.8145960722198033,\n",
       "  1.4990152986102354,\n",
       "  0.4349872600822104],\n",
       " [-5.4119753089398195, 2.474309085667632],\n",
       " [-8.573073309694228]]"
      ]
     },
     "execution_count": 1303,
     "metadata": {},
     "output_type": "execute_result"
    }
   ],
   "source": [
    "r.zsave"
   ]
  },
  {
   "cell_type": "code",
   "execution_count": 1304,
   "metadata": {},
   "outputs": [
    {
     "name": "stdout",
     "output_type": "stream",
     "text": [
      "-8.573073309694228\n",
      "l 2\n",
      "jsp [-8.573073309694228]\n",
      "l 1\n",
      "jsp [-5.4119753089398195, 2.474309085667632]\n",
      "l 0\n",
      "jsp [0.3456901702028046, -0.6484674997055857, 1.8145960722198033, 1.4990152986102354, 0.4349872600822104]\n"
     ]
    }
   ],
   "source": [
    "print(r.prediction)\n",
    "r.retropropagation([r.cout_quadratique_derivee(-0.42235888,r.prediction)])"
   ]
  },
  {
   "cell_type": "code",
   "execution_count": null,
   "metadata": {},
   "outputs": [],
   "source": []
  },
  {
   "cell_type": "code",
   "execution_count": null,
   "metadata": {},
   "outputs": [],
   "source": []
  },
  {
   "cell_type": "code",
   "execution_count": null,
   "metadata": {},
   "outputs": [],
   "source": []
  },
  {
   "cell_type": "code",
   "execution_count": null,
   "metadata": {},
   "outputs": [],
   "source": []
  }
 ],
 "metadata": {
  "kernelspec": {
   "display_name": "Python 3",
   "language": "python",
   "name": "python3"
  },
  "language_info": {
   "codemirror_mode": {
    "name": "ipython",
    "version": 3
   },
   "file_extension": ".py",
   "mimetype": "text/x-python",
   "name": "python",
   "nbconvert_exporter": "python",
   "pygments_lexer": "ipython3",
   "version": "3.8.5"
  }
 },
 "nbformat": 4,
 "nbformat_minor": 4
}
