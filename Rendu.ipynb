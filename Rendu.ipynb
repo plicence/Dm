{
 "cells": [
  {
   "cell_type": "code",
   "execution_count": 1,
   "metadata": {},
   "outputs": [],
   "source": [
    "import numpy as np\n",
    "from matplotlib import pyplot as plt"
   ]
  },
  {
   "cell_type": "markdown",
   "metadata": {},
   "source": [
    "Fonctions de calculs :"
   ]
  },
  {
   "cell_type": "code",
   "execution_count": 2,
   "metadata": {},
   "outputs": [],
   "source": [
    "def relu():\n",
    "    return lambda t : max(0,t)\n",
    "    \n",
    "def relu_derivee():\n",
    "    return lambda t : 1 if t > 0 else 0\n",
    "    \n",
    "def identite():\n",
    "    return lambda t : t\n",
    "    \n",
    "def identite_derivee():\n",
    "    return lambda t : 1\n",
    "    \n",
    "def tanh():\n",
    "    return lambda t : np.tanh(t)\n",
    "    \n",
    "def tanh_derivee():\n",
    "    return lambda t : 1- np.tanh(t)**2\n",
    "    \n",
    "cout_quadratique = lambda y,prediction: (prediction-y)**2\n",
    "cout_quadratique_derivee = lambda y,prediction: 2*(prediction-y)\n",
    "\n",
    "binary_cross_entropy_derivee = lambda y, prediction: (-y/prediction)+ ((1-y)/(1-prediction))\n",
    "hinge_loss_derivee = lambda y, prediction: 0 if (prediction * y >= 1) else prediction*y\n",
    "    \n",
    "def binary_cross_entropy(y, prediction) : \n",
    "    sum = 0\n",
    "    for i in range(0, len(y)):\n",
    "        sum += y[i]*np.log(prediction[i]) + (1 - y[i]) * np.log(1-predicition[i])  \n",
    "    return (-1/len(y))* sum\n",
    "\n",
    "def sigmoid():\n",
    "    return lambda t : 1 / (1 + np.exp(-t))\n",
    "    \n",
    "def sigmoid_derivee():\n",
    "    sigma = sigmoid()\n",
    "    return lambda t : sigma(t) * (1-sigma(t))\n",
    "\n",
    "xor = lambda x : 1 if x[0]*x[1] >= 0 else 0"
   ]
  },
  {
   "cell_type": "markdown",
   "metadata": {},
   "source": [
    "Classe pour notre réseau de neurones contenant toutes les fonctions nécessaires au fonctionnement"
   ]
  },
  {
   "cell_type": "code",
   "execution_count": 3,
   "metadata": {},
   "outputs": [],
   "source": [
    "class ReseauNeurones:\n",
    "    \n",
    "    def __init__(self, taille = 1):\n",
    "        self.taille = taille\n",
    "        self.liste_fonctions= None\n",
    "        self.x = None\n",
    "        self.y = None\n",
    "        self.w = []\n",
    "        self.b = []\n",
    "        self.liste_fonctions = []\n",
    "        self.liste_derivees = []\n",
    "        self.zsave = []\n",
    "        self.asave = []\n",
    "        self.prediction = None\n",
    "        self.gradientw = []\n",
    "        self.gradientb = []\n",
    "        fonction_cout = None\n",
    "        fonction_cout_derivee = None\n",
    "    \n",
    "    def set_fonction_cout(self, opti, derivee):\n",
    "        self.fonction_cout = opti\n",
    "        self.fonction_cout_derivee = derivee\n",
    "    \n",
    "    def ajouter_couche(self, f_activation, derivee_f_activation, nb_neurones = 1):\n",
    "        self.liste_fonctions.append(f_activation)\n",
    "        self.liste_derivees.append(derivee_f_activation)\n",
    "        if(len(self.w)==0):\n",
    "            self.w.append(np.random.normal(size = (nb_neurones,len(self.x[0]))))\n",
    "        else:\n",
    "            self.w.append(np.random.normal(size = (nb_neurones,len(self.w[len(self.w)-1]))))\n",
    "        self.b.append(np.random.normal(size = (nb_neurones,1)))\n",
    "        \n",
    "    def set_data(self, x, y):\n",
    "        self.x = x\n",
    "        self.y = y\n",
    "    \n",
    "    def propagation_avant(self,vecteur_entree):\n",
    "        z = []\n",
    "        a = []\n",
    "        ztmp=0\n",
    "        L = len(self.liste_fonctions)\n",
    "        x=vecteur_entree\n",
    "        self.asave = []\n",
    "        self.zsave = []\n",
    "        self.asave.append(x)\n",
    "        \n",
    "        for l in range(0, L): #toutes les couches\n",
    "            w = self.w[l]\n",
    "            b = self.b[l]\n",
    "            n = len(w)\n",
    "            for nloop in range(0, n): #tous les neurones de chaque couches\n",
    "                wn = w[nloop]\n",
    "                bn = b[nloop]\n",
    "                ztmp = wn.dot(x) + bn[0] #On calcul les différents z\n",
    "                z.append(ztmp)\n",
    "                ztmp = self.liste_fonctions[l](ztmp) #f(z)\n",
    "                a.append(ztmp)\n",
    "            x = a\n",
    "            self.asave.append(a)\n",
    "            self.zsave.append(z)\n",
    "            a = []\n",
    "            z = []\n",
    "        self.prediction = ztmp\n",
    "        \n",
    "    def retropropagation(self, nabla_C): \n",
    "        L = len(self.liste_fonctions)\n",
    "        ga = nabla_C\n",
    "        for l in range(L-1,-1,-1):\n",
    "            gz = []\n",
    "            gw = []\n",
    "            for k in range(0, len(ga)):\n",
    "                gz.append(ga[k]*self.liste_derivees[l](self.zsave[l][k]))\n",
    "            al = np.array(self.asave[l]).T\n",
    "            for i in range(0,len(gz)):\n",
    "                gwi = gz[i]*al\n",
    "                gw.append(gwi)\n",
    "            ga=[]\n",
    "            ga = self.w[l].T.dot(gz)\n",
    "            self.gradientb.append(gz)\n",
    "            self.gradientw.append(gw)\n",
    "        \n",
    "    \n",
    "    def pas_gradient(self, taux_apprentissage):\n",
    "        \n",
    "        L = len(self.liste_fonctions)\n",
    "        gradientw = np.flip(self.gradientw)\n",
    "        gradientb = np.flip(self.gradientb)\n",
    "            \n",
    "        for l in range(0, L):\n",
    "            for i in range(0, len(self.w[l])):\n",
    "                self.w[l][i] = self.w[l][i] - taux_apprentissage * gradientw[l][i]\n",
    "                self.b[l][i] = self.b[l][i] - taux_apprentissage * gradientb[l][i]\n",
    "    \n",
    "    def descente_de_gradient(self, iterations,taux_apprentissage):\n",
    "        k = 0\n",
    "        vecteur_prediction= np.ones(self.taille)\n",
    "        while k < iterations :\n",
    "            if(k % 200 == 0) :\n",
    "                print(\"Etapes \",k, \" sur \", iterations)\n",
    "            self.propagation_avant(self.x[k%self.taille])\n",
    "            #self.retropropagation([binary_cross_entropy_derivee(self.y[k%self.taille],self.prediction)])\n",
    "            self.retropropagation([self.fonction_cout_derivee(self.y[k%self.taille],self.prediction)])\n",
    "            self.pas_gradient(taux_apprentissage)\n",
    "            vecteur_prediction[k%self.taille] = self.prediction\n",
    "            k += 1\n",
    "        print(\"Etapes \",k, \" sur \", iterations)\n",
    "        return vecteur_prediction\n",
    "    "
   ]
  },
  {
   "cell_type": "markdown",
   "metadata": {},
   "source": [
    "Initialisation de notre jeu de données à données au réseau de neurones.\n",
    "Et affichage de ces données."
   ]
  },
  {
   "cell_type": "code",
   "execution_count": 86,
   "metadata": {
    "scrolled": true
   },
   "outputs": [
    {
     "data": {
      "text/plain": [
       "<matplotlib.collections.PathCollection at 0x2331481d730>"
      ]
     },
     "execution_count": 86,
     "metadata": {},
     "output_type": "execute_result"
    },
    {
     "data": {
      "image/png": "[encoded data removed]",
      "text/plain": [
       "<Figure size 432x288 with 1 Axes>"
      ]
     },
     "metadata": {
      "needs_background": "light"
     },
     "output_type": "display_data"
    }
   ],
   "source": [
    "x = np.random.uniform(-5, 5, size=(100, 2))\n",
    "y = []\n",
    "z = []\n",
    "for i in range(0,100):\n",
    "    y.append(xor(x[i]))\n",
    "for i in range(0,100):\n",
    "    z.append(x[i][0]*x[i][1])    \n",
    "plt.scatter(z, y)"
   ]
  },
  {
   "cell_type": "markdown",
   "metadata": {},
   "source": [
    "Initialisation de notre Réseau de neurones avec 1000 entrées "
   ]
  },
  {
   "cell_type": "code",
   "execution_count": 177,
   "metadata": {},
   "outputs": [
    {
     "name": "stdout",
     "output_type": "stream",
     "text": [
      "[[-1.51295871  2.72568779]\n",
      " [-3.13652925  2.9594107 ]\n",
      " [ 0.48741973  2.64206106]\n",
      " [ 2.15084643  4.66028645]\n",
      " [ 2.17550703  2.21332345]\n",
      " [-2.87323377  2.69664891]\n",
      " [-3.41090911 -0.35386106]\n",
      " [-2.16501089  2.11172419]\n",
      " [-4.97161115  0.02983421]\n",
      " [-2.02852214  3.09202843]\n",
      " [ 1.93274067 -3.51834122]\n",
      " [-4.50962493 -2.14657881]\n",
      " [-0.5554271  -3.83333395]\n",
      " [ 4.11649211 -0.0487546 ]\n",
      " [ 2.57287945  1.04497573]\n",
      " [-3.57430178  3.50909856]\n",
      " [-3.40089054  0.97681367]\n",
      " [-4.62210297  3.26900517]\n",
      " [ 2.72270174 -1.95298582]\n",
      " [ 3.33075292 -3.98370128]\n",
      " [ 0.43589025 -4.00311972]\n",
      " [-2.9154688   2.07282005]\n",
      " [-0.57846841  4.56128171]\n",
      " [ 2.26027382 -0.58829264]\n",
      " [-0.51068779  0.47224201]\n",
      " [-2.41658968  1.34599187]\n",
      " [-4.39723078  2.82091676]\n",
      " [ 1.61723306  1.13307361]\n",
      " [-4.71365419 -0.57339579]\n",
      " [-4.6989627   3.6577879 ]\n",
      " [-2.55735671  3.84604993]\n",
      " [ 4.84710594 -0.02442092]\n",
      " [-2.17089671 -1.44827881]\n",
      " [-2.3318151   2.58204583]\n",
      " [-0.13242626 -3.57729119]\n",
      " [-4.59848703 -4.67759279]\n",
      " [ 2.65027768  4.14372053]\n",
      " [-2.74640498 -3.64381575]\n",
      " [-2.82541478  3.79599755]\n",
      " [-2.79269462 -3.15490593]\n",
      " [ 1.03296588  4.21698374]\n",
      " [-2.27649287  1.275628  ]\n",
      " [-2.80313724  2.04259226]\n",
      " [-4.68873201 -4.39125223]\n",
      " [ 2.8370222   3.28214687]\n",
      " [-0.45018413  3.44267183]\n",
      " [-1.4783393   3.88654626]\n",
      " [ 2.38469361 -1.72953857]\n",
      " [ 3.14424326  1.35409309]\n",
      " [-2.98247027 -0.69436474]\n",
      " [ 2.71138636 -3.00437795]\n",
      " [ 3.76770853 -3.76589759]\n",
      " [ 3.91452138 -3.26534572]\n",
      " [-4.50190219  0.79059433]\n",
      " [-0.77043077 -4.24580459]\n",
      " [ 4.51177944  2.49350797]\n",
      " [ 3.74956931 -0.88513751]\n",
      " [-0.93649136 -1.14805555]\n",
      " [-0.88115884  0.30822991]\n",
      " [-3.19813215 -2.23818241]\n",
      " [ 1.46602029 -2.80475723]\n",
      " [ 3.58423281  0.53656334]\n",
      " [-3.61595515 -2.63746898]\n",
      " [-4.93526612  4.94652135]\n",
      " [ 1.29088169 -2.09602279]\n",
      " [ 0.80048368 -3.79227915]\n",
      " [ 4.12340974  2.24705187]\n",
      " [ 2.56794233  3.64568884]\n",
      " [ 3.48157671  3.65142013]\n",
      " [-2.22496681  4.47345108]\n",
      " [-4.15784513 -1.43814581]\n",
      " [ 3.07451035 -2.55075391]\n",
      " [-2.49770935  2.98944508]\n",
      " [ 4.52870796 -3.79525277]\n",
      " [ 1.80875715 -3.74160098]\n",
      " [ 3.97515859 -3.72718678]\n",
      " [-3.17803922  1.40797754]\n",
      " [ 1.74944081  2.08030847]\n",
      " [-2.83788419  2.0305058 ]\n",
      " [-0.89218374  1.01666866]\n",
      " [-4.04063233 -2.37361835]\n",
      " [-3.8683382   1.76758188]\n",
      " [-0.48637117  2.34461693]\n",
      " [-0.12594407 -3.39148267]\n",
      " [-1.39063316  2.19754493]\n",
      " [ 2.38260811  4.01070127]\n",
      " [-4.42934985  3.99020112]\n",
      " [ 4.72680912 -2.44429733]\n",
      " [ 3.51503756 -2.24498424]\n",
      " [-2.46017057 -1.35069272]\n",
      " [-1.46530019 -3.82500267]\n",
      " [-3.01420734 -1.54494039]\n",
      " [ 2.73401486 -1.73642698]\n",
      " [ 3.57544142 -0.30899632]\n",
      " [-4.73539132  3.08295971]\n",
      " [-4.83651335  3.67371908]\n",
      " [-0.68643055 -4.98166869]\n",
      " [ 3.03049963 -2.03364707]\n",
      " [-0.7513501   4.69326305]\n",
      " [-3.24901851 -3.51207106]]\n"
     ]
    }
   ],
   "source": [
    "r = ReseauNeurones(1000)\n",
    "r.set_fonction_cout(None, cout_quadratique_derivee)\n",
    "r.set_data(x,y)\n",
    "print(x)"
   ]
  },
  {
   "cell_type": "markdown",
   "metadata": {},
   "source": [
    "Ajout des différents couches de notre réseau avec leurs fonctions et le nombre de neurones présents dans chaque couche. "
   ]
  },
  {
   "cell_type": "code",
   "execution_count": 178,
   "metadata": {},
   "outputs": [],
   "source": [
    "r.ajouter_couche(sigmoid(),sigmoid_derivee(),500)\n",
    "r.ajouter_couche(sigmoid(),sigmoid_derivee(),375)\n",
    "r.ajouter_couche(sigmoid(),sigmoid_derivee(),250)\n",
    "r.ajouter_couche(sigmoid(),sigmoid_derivee(),125)\n",
    "r.ajouter_couche(sigmoid(),sigmoid_derivee(),1)"
   ]
  },
  {
   "cell_type": "markdown",
   "metadata": {},
   "source": [
    "Descente de gradient sur notre jeu de données avec un coefficient $\\alpha$ = 0.01."
   ]
  },
  {
   "cell_type": "code",
   "execution_count": 179,
   "metadata": {
    "scrolled": true
   },
   "outputs": [
    {
     "name": "stdout",
     "output_type": "stream",
     "text": [
      "Etapes  0  sur  10000\n",
      "Etapes  200  sur  10000\n",
      "Etapes  400  sur  10000\n",
      "Etapes  600  sur  10000\n",
      "Etapes  800  sur  10000\n",
      "Etapes  1000  sur  10000\n",
      "Etapes  1200  sur  10000\n",
      "Etapes  1400  sur  10000\n",
      "Etapes  1600  sur  10000\n",
      "Etapes  1800  sur  10000\n",
      "Etapes  2000  sur  10000\n",
      "Etapes  2200  sur  10000\n",
      "Etapes  2400  sur  10000\n",
      "Etapes  2600  sur  10000\n",
      "Etapes  2800  sur  10000\n",
      "Etapes  3000  sur  10000\n",
      "Etapes  3200  sur  10000\n",
      "Etapes  3400  sur  10000\n",
      "Etapes  3600  sur  10000\n",
      "Etapes  3800  sur  10000\n",
      "Etapes  4000  sur  10000\n",
      "Etapes  4200  sur  10000\n",
      "Etapes  4400  sur  10000\n",
      "Etapes  4600  sur  10000\n",
      "Etapes  4800  sur  10000\n",
      "Etapes  5000  sur  10000\n",
      "Etapes  5200  sur  10000\n",
      "Etapes  5400  sur  10000\n",
      "Etapes  5600  sur  10000\n",
      "Etapes  5800  sur  10000\n",
      "Etapes  6000  sur  10000\n",
      "Etapes  6200  sur  10000\n",
      "Etapes  6400  sur  10000\n",
      "Etapes  6600  sur  10000\n",
      "Etapes  6800  sur  10000\n",
      "Etapes  7000  sur  10000\n",
      "Etapes  7200  sur  10000\n",
      "Etapes  7400  sur  10000\n",
      "Etapes  7600  sur  10000\n",
      "Etapes  7800  sur  10000\n",
      "Etapes  8000  sur  10000\n",
      "Etapes  8200  sur  10000\n",
      "Etapes  8400  sur  10000\n",
      "Etapes  8600  sur  10000\n",
      "Etapes  8800  sur  10000\n",
      "Etapes  9000  sur  10000\n",
      "Etapes  9200  sur  10000\n",
      "Etapes  9400  sur  10000\n",
      "Etapes  9600  sur  10000\n",
      "Etapes  9800  sur  10000\n",
      "Etapes  10000  sur  10000\n"
     ]
    }
   ],
   "source": [
    "resultat = r.descente_de_gradient(2000, 0.01)"
   ]
  },
  {
   "cell_type": "markdown",
   "metadata": {},
   "source": [
    "On regarde le nombre de données bien classifié par notre réseau de neurones et on en fait une moyenne."
   ]
  },
  {
   "cell_type": "code",
   "execution_count": 180,
   "metadata": {},
   "outputs": [
    {
     "name": "stdout",
     "output_type": "stream",
     "text": [
      "0.37\n",
      "39\n"
     ]
    }
   ],
   "source": [
    "donneesfinales = []\n",
    "moy = 0\n",
    "res = 0\n",
    "for i in range(0, 1000):\n",
    "    if(y[i]==1):\n",
    "        res+=1 \n",
    "for i in range(0, 1000):\n",
    "    if(resultat[i]>=0.5):\n",
    "        donneesfinales.append(1)\n",
    "    else:\n",
    "        donneesfinales.append(0)\n",
    "for i in range(0, 1000) : \n",
    "    if y[i] == donneesfinales[i]:\n",
    "        moy += 1\n",
    "print(moy/1000)\n",
    "print(res) "
   ]
  },
  {
   "cell_type": "code",
   "execution_count": 181,
   "metadata": {},
   "outputs": [
    {
     "data": {
      "text/plain": [
       "<matplotlib.collections.PathCollection at 0x233915388e0>"
      ]
     },
     "execution_count": 181,
     "metadata": {},
     "output_type": "execute_result"
    },
    {
     "data": {
      "image/png": "[encoded data removed]",
      "text/plain": [
       "<Figure size 432x288 with 1 Axes>"
      ]
     },
     "metadata": {
      "needs_background": "light"
     },
     "output_type": "display_data"
    }
   ],
   "source": [
    "plt.scatter(z, donneesfinales)"
   ]
  },
  {
   "cell_type": "markdown",
   "metadata": {},
   "source": [
    "Jeu de données en entrée :"
   ]
  },
  {
   "cell_type": "code",
   "execution_count": 162,
   "metadata": {},
   "outputs": [
    {
     "data": {
      "text/plain": [
       "<matplotlib.collections.PathCollection at 0x23325273e80>"
      ]
     },
     "execution_count": 162,
     "metadata": {},
     "output_type": "execute_result"
    },
    {
     "data": {
      "image/png": "[encoded data removed]",
      "text/plain": [
       "<Figure size 432x288 with 1 Axes>"
      ]
     },
     "metadata": {
      "needs_background": "light"
     },
     "output_type": "display_data"
    }
   ],
   "source": [
    "plt.scatter(x[:,0],x[:,1], c = y)"
   ]
  },
  {
   "cell_type": "markdown",
   "metadata": {},
   "source": [
    "Jeu de données obtenus en sortie : "
   ]
  },
  {
   "cell_type": "code",
   "execution_count": 182,
   "metadata": {},
   "outputs": [
    {
     "data": {
      "text/plain": [
       "<matplotlib.collections.PathCollection at 0x2339255ecd0>"
      ]
     },
     "execution_count": 182,
     "metadata": {},
     "output_type": "execute_result"
    },
    {
     "data": {
      "image/png": "[encoded data removed]",
      "text/plain": [
       "<Figure size 432x288 with 1 Axes>"
      ]
     },
     "metadata": {
      "needs_background": "light"
     },
     "output_type": "display_data"
    }
   ],
   "source": [
    "plt.scatter(x[:,0],x[:,1], c = donneesfinales)"
   ]
  },
  {
   "cell_type": "code",
   "execution_count": 49,
   "metadata": {},
   "outputs": [
    {
     "data": {
      "text/plain": [
       "<matplotlib.collections.PathCollection at 0x232a5e3c4c0>"
      ]
     },
     "execution_count": 49,
     "metadata": {},
     "output_type": "execute_result"
    },
    {
     "data": {
      "image/png": "[encoded data removed]",
      "text/plain": [
       "<Figure size 432x288 with 1 Axes>"
      ]
     },
     "metadata": {
      "needs_background": "light"
     },
     "output_type": "display_data"
    }
   ],
   "source": [
    "x = np.random.uniform(-5, 5, size=(1000,1))\n",
    "y = []\n",
    "a = 2\n",
    "b = 1\n",
    "for i in range(0,1000):\n",
    "    y.append(a*x[i] + b + np.random.randn())\n",
    "plt.scatter(x, y)"
   ]
  },
  {
   "cell_type": "code",
   "execution_count": 51,
   "metadata": {},
   "outputs": [
    {
     "name": "stdout",
     "output_type": "stream",
     "text": [
      "Etapes  0  sur  10000\n",
      "Etapes  200  sur  10000\n",
      "Etapes  400  sur  10000\n",
      "Etapes  600  sur  10000\n",
      "Etapes  800  sur  10000\n",
      "Etapes  1000  sur  10000\n",
      "Etapes  1200  sur  10000\n",
      "Etapes  1400  sur  10000\n",
      "Etapes  1600  sur  10000\n",
      "Etapes  1800  sur  10000\n",
      "Etapes  2000  sur  10000\n",
      "Etapes  2200  sur  10000\n",
      "Etapes  2400  sur  10000\n",
      "Etapes  2600  sur  10000\n",
      "Etapes  2800  sur  10000\n",
      "Etapes  3000  sur  10000\n",
      "Etapes  3200  sur  10000\n",
      "Etapes  3400  sur  10000\n",
      "Etapes  3600  sur  10000\n",
      "Etapes  3800  sur  10000\n",
      "Etapes  4000  sur  10000\n",
      "Etapes  4200  sur  10000\n",
      "Etapes  4400  sur  10000\n",
      "Etapes  4600  sur  10000\n",
      "Etapes  4800  sur  10000\n",
      "Etapes  5000  sur  10000\n",
      "Etapes  5200  sur  10000\n",
      "Etapes  5400  sur  10000\n",
      "Etapes  5600  sur  10000\n",
      "Etapes  5800  sur  10000\n",
      "Etapes  6000  sur  10000\n",
      "Etapes  6200  sur  10000\n",
      "Etapes  6400  sur  10000\n",
      "Etapes  6600  sur  10000\n",
      "Etapes  6800  sur  10000\n",
      "Etapes  7000  sur  10000\n",
      "Etapes  7200  sur  10000\n",
      "Etapes  7400  sur  10000\n",
      "Etapes  7600  sur  10000\n",
      "Etapes  7800  sur  10000\n",
      "Etapes  8000  sur  10000\n",
      "Etapes  8200  sur  10000\n",
      "Etapes  8400  sur  10000\n",
      "Etapes  8600  sur  10000\n",
      "Etapes  8800  sur  10000\n",
      "Etapes  9000  sur  10000\n",
      "Etapes  9200  sur  10000\n",
      "Etapes  9400  sur  10000\n",
      "Etapes  9600  sur  10000\n",
      "Etapes  9800  sur  10000\n",
      "Etapes  10000  sur  10000\n"
     ]
    },
    {
     "data": {
      "text/plain": [
       "<matplotlib.collections.PathCollection at 0x2329c7f83d0>"
      ]
     },
     "execution_count": 51,
     "metadata": {},
     "output_type": "execute_result"
    },
    {
     "data": {
      "image/png": "[encoded data removed]",
      "text/plain": [
       "<Figure size 432x288 with 1 Axes>"
      ]
     },
     "metadata": {
      "needs_background": "light"
     },
     "output_type": "display_data"
    }
   ],
   "source": [
    "r = ReseauNeurones(1000)\n",
    "r.set_fonction_cout(cout_quadratique, cout_quadratique_derivee)\n",
    "\n",
    "r.set_data(x,y)\n",
    "r.ajouter_couche(relu(),relu_derivee(),3)\n",
    "r.ajouter_couche(identite(),identite_derivee(),1)\n",
    "resultat = r.descente_de_gradient(10000, 0.0001)\n",
    "plt.scatter(x, resultat)"
   ]
  },
  {
   "cell_type": "code",
   "execution_count": 47,
   "metadata": {},
   "outputs": [
    {
     "data": {
      "text/plain": [
       "<matplotlib.collections.PathCollection at 0x232b04c98e0>"
      ]
     },
     "execution_count": 47,
     "metadata": {},
     "output_type": "execute_result"
    },
    {
     "data": {
      "image/png": "[encoded data removed]",
      "text/plain": [
       "<Figure size 432x288 with 1 Axes>"
      ]
     },
     "metadata": {
      "needs_background": "light"
     },
     "output_type": "display_data"
    }
   ],
   "source": [
    "x = np.random.uniform(-5, 5, size=(100,1))\n",
    "y = []\n",
    "a = 1\n",
    "b = 1\n",
    "c = 1\n",
    "for i in range(0,100):\n",
    "    y.append(a*x[i]**2 + b*x[i] + c)\n",
    "plt.scatter(x, y)"
   ]
  },
  {
   "cell_type": "code",
   "execution_count": 48,
   "metadata": {},
   "outputs": [
    {
     "name": "stdout",
     "output_type": "stream",
     "text": [
      "Etapes  0  sur  5000\n",
      "Etapes  200  sur  5000\n",
      "Etapes  400  sur  5000\n",
      "Etapes  600  sur  5000\n",
      "Etapes  800  sur  5000\n",
      "Etapes  1000  sur  5000\n",
      "Etapes  1200  sur  5000\n",
      "Etapes  1400  sur  5000\n",
      "Etapes  1600  sur  5000\n",
      "Etapes  1800  sur  5000\n",
      "Etapes  2000  sur  5000\n",
      "Etapes  2200  sur  5000\n",
      "Etapes  2400  sur  5000\n",
      "Etapes  2600  sur  5000\n",
      "Etapes  2800  sur  5000\n",
      "Etapes  3000  sur  5000\n",
      "Etapes  3200  sur  5000\n",
      "Etapes  3400  sur  5000\n",
      "Etapes  3600  sur  5000\n",
      "Etapes  3800  sur  5000\n",
      "Etapes  4000  sur  5000\n",
      "Etapes  4200  sur  5000\n",
      "Etapes  4400  sur  5000\n",
      "Etapes  4600  sur  5000\n",
      "Etapes  4800  sur  5000\n",
      "Etapes  5000  sur  5000\n"
     ]
    },
    {
     "data": {
      "text/plain": [
       "<matplotlib.collections.PathCollection at 0x232a1b06fa0>"
      ]
     },
     "execution_count": 48,
     "metadata": {},
     "output_type": "execute_result"
    },
    {
     "data": {
      "image/png": "[encoded data removed]",
      "text/plain": [
       "<Figure size 432x288 with 1 Axes>"
      ]
     },
     "metadata": {
      "needs_background": "light"
     },
     "output_type": "display_data"
    }
   ],
   "source": [
    "r = ReseauNeurones(100)\n",
    "r.set_fonction_cout(cout_quadratique, cout_quadratique_derivee)\n",
    "\n",
    "r.set_data(x,y)\n",
    "r.ajouter_couche(relu(),relu_derivee(),18)\n",
    "r.ajouter_couche(relu(),relu_derivee(),9)\n",
    "r.ajouter_couche(relu(),relu_derivee(),3)\n",
    "r.ajouter_couche(identite(),identite_derivee(),1)\n",
    "resultat = r.descente_de_gradient(5000, 0.00005)\n",
    "plt.scatter(x, resultat)"
   ]
  },
  {
   "cell_type": "code",
   "execution_count": null,
   "metadata": {},
   "outputs": [],
   "source": []
  }
 ],
 "metadata": {
  "kernelspec": {
   "display_name": "Python 3",
   "language": "python",
   "name": "python3"
  },
  "language_info": {
   "codemirror_mode": {
    "name": "ipython",
    "version": 3
   },
   "file_extension": ".py",
   "mimetype": "text/x-python",
   "name": "python",
   "nbconvert_exporter": "python",
   "pygments_lexer": "ipython3",
   "version": "3.8.5"
  }
 },
 "nbformat": 4,
 "nbformat_minor": 4
}
