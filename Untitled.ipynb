{
 "cells": [
  {
   "cell_type": "code",
   "execution_count": 12,
   "metadata": {},
   "outputs": [],
   "source": [
    "import numpy as np"
   ]
  },
  {
   "cell_type": "code",
   "execution_count": 462,
   "metadata": {},
   "outputs": [],
   "source": [
    "class ReseauNeurones:\n",
    "    \n",
    "    def __init__(self, taille = 1):\n",
    "        self.taille = taille\n",
    "        self.liste_fonctions= None\n",
    "        self.x = None\n",
    "        self.y = None\n",
    "        self.w = []\n",
    "        self.b = []\n",
    "        self.liste_fonctions = []\n",
    "        self.liste_derivees = []\n",
    "        self.zsave = []\n",
    "        self.asave = []\n",
    "        self.prediction = None\n",
    "        \n",
    "    def ajouter_couche(self, f_activation, derivee_f_activation, nb_neurones = 1):\n",
    "        self.liste_fonctions.append(f_activation)\n",
    "        self.liste_derivees.append(derivee_f_activation)\n",
    "        if(len(self.w)==0):\n",
    "            self.w.append(np.random.normal(size = (nb_neurones,self.taille)))\n",
    "        else:\n",
    "            print(\"herre\", len(self.w[len(self.w)-1]))\n",
    "            self.w.append(np.random.normal(size = (nb_neurones,len(self.w[len(self.w)-1]))))\n",
    "        self.b.append(np.random.normal(size = (nb_neurones,1)))\n",
    "        \n",
    "    def set_data(self, x, y):\n",
    "        self.x = x\n",
    "        self.y = y\n",
    "    \n",
    "    def propagation_avant(self):\n",
    "        z = []\n",
    "        a = []\n",
    "        ztmp=0\n",
    "        L = len(self.liste_fonctions)\n",
    "        print(\"Nombre couches:\", L)\n",
    "        x=self.x[0]\n",
    "        print(\"x vaut:\",x)\n",
    "        for l in range(0, L): #toutes les couches\n",
    "            print(\"Couche numéro :\", l)\n",
    "            w = self.w[l]\n",
    "            b = self.b[l]\n",
    "            print(\"b vaut :\", b)\n",
    "            n = len(w)\n",
    "            print(\"taille de w vaut : \", n)\n",
    "            print(n)\n",
    "            print(w)\n",
    "            for nloop in range(0, n): #tous les neurones de chaque couches\n",
    "                print(\"W=\",w[nloop])\n",
    "                print(\"Mutliplié par :\", x)\n",
    "                wn = w[nloop]\n",
    "                bn = b[nloop]\n",
    "                print(\"bn affiche :\", bn)\n",
    "                ztmp = wn.dot(x) + bn[0] #On calcul les différents z\n",
    "                z.append(ztmp)\n",
    "                print(\"ztmp vaut:\", ztmp)\n",
    "                ztmp = self.liste_fonctions[l](ztmp) #f(z)\n",
    "                a.append(ztmp)\n",
    "            print(a)\n",
    "            x = a\n",
    "            self.asave.append(a)\n",
    "            self.zsave.append(z)\n",
    "            a = []\n",
    "            z = []\n",
    "            \n",
    "                #for i in range(0, self.taille): #caractéristiques d'un neurone\n",
    "                 #   print(\"Caractéristique i\", wn[i])\n",
    "                 #   print(\"Valeur xi\",x)\n",
    "            \n",
    "            \"\"\"ztmp += w[i].dot(x[i])\n",
    "            ztmp += b\n",
    "            z.append(ztmp)\n",
    "            \"\"\"\n",
    "        \n",
    "        self.prediction = ztmp\n",
    "        \n",
    "    def retropropagation(self, nabla_C): \n",
    "        L = len(self.liste_fonctions)\n",
    "        ga = nabla_C\n",
    "        for l in range(L-1,0,-1):\n",
    "            print(\"l\",l)\n",
    "            gz = []\n",
    "            gw = []\n",
    "            for k in range(0, len(ga)):\n",
    "                gz.append(nabla_C[k]*self.liste_derivees[l](self.zsave[l][k]))\n",
    "            al = np.array(self.asave[l-1]).T\n",
    "            print(\"asave\", al)\n",
    "            for i in range(0,len(gz)):\n",
    "                gwi = gz[i]*al\n",
    "                gw.append(gwi)\n",
    "            print(\"Vecteur gw : \",gw)\n",
    "            ga=[]\n",
    "            for s in range(0,len(gz)):\n",
    "                for i in range(0,len(gw)):\n",
    "                    gai = gw[i]*gz[s]\n",
    "                    ga.append(gai)\n",
    "            print(gai)\n",
    "            \n",
    "            \n",
    "            \n",
    "        # gz.dot(self.asave[l-1])\n",
    "                #gz.append(nabla_C[k]*self.liste_derivees[l](self.zsave[k]))\n",
    "            #gz = ga * self.liste_derivees()\n",
    "        \n",
    "        \n",
    "    \n",
    "    def pas_gradient(self, taux_apprentissage):\n",
    "        pass\n",
    "    \n",
    "    def relu(self):\n",
    "        return lambda t : max(0,t)\n",
    "    \n",
    "    def relu_derivee(self):\n",
    "        return lambda t : t\n",
    "    \n",
    "    def identite(self):\n",
    "        return lambda t : t\n",
    "    \n",
    "    def identite_derivee(self):\n",
    "        return lambda t : 1\n",
    "    \n",
    "    def cout_quadratique(self,y,prediction):\n",
    "        return (prediction-y)**2\n",
    "        \n",
    "    def cout_quadratique_derivee(self,y,prediction) : \n",
    "        return 2*(prediction-y)"
   ]
  },
  {
   "cell_type": "code",
   "execution_count": 463,
   "metadata": {},
   "outputs": [],
   "source": [
    "r = ReseauNeurones(3)"
   ]
  },
  {
   "cell_type": "code",
   "execution_count": 464,
   "metadata": {},
   "outputs": [
    {
     "name": "stdout",
     "output_type": "stream",
     "text": [
      "[[ 1.81006622 -0.16058116  0.35432232 -1.78323134]\n",
      " [ 1.67248524 -0.26969354 -1.27071682  0.20604586]\n",
      " [-2.11099863  0.31912743 -0.82607232 -0.218624  ]\n",
      " [ 1.58636484  0.27684429 -0.66936232 -0.29083397]\n",
      " [-0.77892094 -0.60989521 -1.81628185  0.7556591 ]]\n"
     ]
    },
    {
     "data": {
      "text/plain": [
       "array([[ 1.81006622,  1.67248524, -2.11099863,  1.58636484, -0.77892094],\n",
       "       [-0.16058116, -0.26969354,  0.31912743,  0.27684429, -0.60989521],\n",
       "       [ 0.35432232, -1.27071682, -0.82607232, -0.66936232, -1.81628185],\n",
       "       [-1.78323134,  0.20604586, -0.218624  , -0.29083397,  0.7556591 ]])"
      ]
     },
     "execution_count": 464,
     "metadata": {},
     "output_type": "execute_result"
    }
   ],
   "source": [
    "a= np.random.randn(5,4)\n",
    "print(a)\n",
    "a.T\n",
    "\n"
   ]
  },
  {
   "cell_type": "code",
   "execution_count": 465,
   "metadata": {},
   "outputs": [
    {
     "ename": "ValueError",
     "evalue": "all the input array dimensions for the concatenation axis must match exactly, but along dimension 1, the array at index 0 has size 4 and the array at index 1 has size 2",
     "output_type": "error",
     "traceback": [
      "\u001b[1;31m---------------------------------------------------------------------------\u001b[0m",
      "\u001b[1;31mValueError\u001b[0m                                Traceback (most recent call last)",
      "\u001b[1;32m<ipython-input-465-dae3e976b66b>\u001b[0m in \u001b[0;36m<module>\u001b[1;34m\u001b[0m\n\u001b[0;32m      1\u001b[0m \u001b[0mA\u001b[0m\u001b[1;33m=\u001b[0m\u001b[1;33m[\u001b[0m\u001b[1;33m]\u001b[0m\u001b[1;33m\u001b[0m\u001b[1;33m\u001b[0m\u001b[0m\n\u001b[1;32m----> 2\u001b[1;33m \u001b[0mtest\u001b[0m\u001b[1;33m=\u001b[0m\u001b[0mnp\u001b[0m\u001b[1;33m.\u001b[0m\u001b[0mappend\u001b[0m\u001b[1;33m(\u001b[0m\u001b[0ma\u001b[0m\u001b[1;33m,\u001b[0m\u001b[1;33m[\u001b[0m\u001b[1;33m[\u001b[0m\u001b[1;36m1\u001b[0m\u001b[1;33m,\u001b[0m\u001b[1;36m1\u001b[0m\u001b[1;33m]\u001b[0m\u001b[1;33m]\u001b[0m\u001b[1;33m,\u001b[0m\u001b[0maxis\u001b[0m\u001b[1;33m=\u001b[0m\u001b[1;36m0\u001b[0m\u001b[1;33m)\u001b[0m\u001b[1;33m\u001b[0m\u001b[1;33m\u001b[0m\u001b[0m\n\u001b[0m\u001b[0;32m      3\u001b[0m \u001b[0mprint\u001b[0m\u001b[1;33m(\u001b[0m\u001b[0mtest\u001b[0m\u001b[1;33m)\u001b[0m\u001b[1;33m\u001b[0m\u001b[1;33m\u001b[0m\u001b[0m\n",
      "\u001b[1;32m<__array_function__ internals>\u001b[0m in \u001b[0;36mappend\u001b[1;34m(*args, **kwargs)\u001b[0m\n",
      "\u001b[1;32m~\\anaconda3\\lib\\site-packages\\numpy\\lib\\function_base.py\u001b[0m in \u001b[0;36mappend\u001b[1;34m(arr, values, axis)\u001b[0m\n\u001b[0;32m   4669\u001b[0m         \u001b[0mvalues\u001b[0m \u001b[1;33m=\u001b[0m \u001b[0mravel\u001b[0m\u001b[1;33m(\u001b[0m\u001b[0mvalues\u001b[0m\u001b[1;33m)\u001b[0m\u001b[1;33m\u001b[0m\u001b[1;33m\u001b[0m\u001b[0m\n\u001b[0;32m   4670\u001b[0m         \u001b[0maxis\u001b[0m \u001b[1;33m=\u001b[0m \u001b[0marr\u001b[0m\u001b[1;33m.\u001b[0m\u001b[0mndim\u001b[0m\u001b[1;33m-\u001b[0m\u001b[1;36m1\u001b[0m\u001b[1;33m\u001b[0m\u001b[1;33m\u001b[0m\u001b[0m\n\u001b[1;32m-> 4671\u001b[1;33m     \u001b[1;32mreturn\u001b[0m \u001b[0mconcatenate\u001b[0m\u001b[1;33m(\u001b[0m\u001b[1;33m(\u001b[0m\u001b[0marr\u001b[0m\u001b[1;33m,\u001b[0m \u001b[0mvalues\u001b[0m\u001b[1;33m)\u001b[0m\u001b[1;33m,\u001b[0m \u001b[0maxis\u001b[0m\u001b[1;33m=\u001b[0m\u001b[0maxis\u001b[0m\u001b[1;33m)\u001b[0m\u001b[1;33m\u001b[0m\u001b[1;33m\u001b[0m\u001b[0m\n\u001b[0m\u001b[0;32m   4672\u001b[0m \u001b[1;33m\u001b[0m\u001b[0m\n\u001b[0;32m   4673\u001b[0m \u001b[1;33m\u001b[0m\u001b[0m\n",
      "\u001b[1;32m<__array_function__ internals>\u001b[0m in \u001b[0;36mconcatenate\u001b[1;34m(*args, **kwargs)\u001b[0m\n",
      "\u001b[1;31mValueError\u001b[0m: all the input array dimensions for the concatenation axis must match exactly, but along dimension 1, the array at index 0 has size 4 and the array at index 1 has size 2"
     ]
    }
   ],
   "source": [
    "A=[]\n",
    "test=np.append(a,[[1,1]],axis=0)\n",
    "print(test)"
   ]
  },
  {
   "cell_type": "code",
   "execution_count": 466,
   "metadata": {},
   "outputs": [
    {
     "name": "stdout",
     "output_type": "stream",
     "text": [
      "[-1.78323134  0.20604586 -0.218624   -0.29083397  0.7556591 ]\n",
      "[-1.78323134  0.20604586 -0.218624   -0.29083397  0.7556591 ]\n",
      "[[ 1.81006622 -0.16058116  0.35432232]\n",
      " [ 1.67248524 -0.26969354 -1.27071682]\n",
      " [-2.11099863  0.31912743 -0.82607232]\n",
      " [ 1.58636484  0.27684429 -0.66936232]\n",
      " [-0.77892094 -0.60989521 -1.81628185]]\n"
     ]
    }
   ],
   "source": [
    "r.set_data(a[:,0:3],a[:,3])\n",
    "print(r.y)\n",
    "print(r.y.T)\n",
    "print(r.x)"
   ]
  },
  {
   "cell_type": "code",
   "execution_count": 467,
   "metadata": {},
   "outputs": [
    {
     "name": "stdout",
     "output_type": "stream",
     "text": [
      "1\n",
      "2\n",
      "herre 5\n",
      "herre 2\n",
      "[array([[-0.60489127,  0.46703675,  0.68860012],\n",
      "       [ 0.77675466,  0.32969117,  1.54887542],\n",
      "       [-1.21830719,  0.39337172, -1.83059768],\n",
      "       [-0.25624087, -0.8891939 ,  0.02143818],\n",
      "       [-0.22091471, -0.37557018,  1.83158636]]), array([[ 0.49795072, -0.7943746 , -0.62584153, -0.29373433, -0.24305745],\n",
      "       [-0.01522761,  0.90174649,  0.78139613,  0.91747751, -0.60514804]]), array([[0.70482675, 0.24931964]])]\n",
      "0\n",
      "-1\n"
     ]
    }
   ],
   "source": [
    "print(1)\n",
    "r.ajouter_couche(r.relu(),r.relu_derivee(),5)\n",
    "print(2)\n",
    "r.ajouter_couche(r.identite(),r.identite_derivee(),2)\n",
    "r.ajouter_couche(r.identite(),r.identite_derivee(),1)\n",
    "print(r.w)\n",
    "print(r.liste_fonctions[0](-10))\n",
    "print(r.liste_fonctions[1](-1))"
   ]
  },
  {
   "cell_type": "code",
   "execution_count": 468,
   "metadata": {},
   "outputs": [
    {
     "name": "stdout",
     "output_type": "stream",
     "text": [
      "Nombre couches: 3\n",
      "x vaut: [ 1.81006622 -0.16058116  0.35432232]\n",
      "Couche numéro : 0\n",
      "b vaut : [[-0.65922462]\n",
      " [ 2.69167807]\n",
      " [ 0.68292597]\n",
      " [-0.22403708]\n",
      " [-0.31578079]]\n",
      "taille de w vaut :  5\n",
      "5\n",
      "[[-0.60489127  0.46703675  0.68860012]\n",
      " [ 0.77675466  0.32969117  1.54887542]\n",
      " [-1.21830719  0.39337172 -1.83059768]\n",
      " [-0.25624087 -0.8891939   0.02143818]\n",
      " [-0.22091471 -0.37557018  1.83158636]]\n",
      "W= [-0.60489127  0.46703675  0.68860012]\n",
      "Mutliplié par : [ 1.81006622 -0.16058116  0.35432232]\n",
      "bn affiche : [-0.65922462]\n",
      "ztmp vaut: -1.5851287792786635\n",
      "W= [0.77675466 0.32969117 1.54887542]\n",
      "Mutliplié par : [ 1.81006622 -0.16058116  0.35432232]\n",
      "bn affiche : [2.69167807]\n",
      "ztmp vaut: 4.59351438610415\n",
      "W= [-1.21830719  0.39337172 -1.83059768]\n",
      "Mutliplié par : [ 1.81006622 -0.16058116  0.35432232]\n",
      "bn affiche : [0.68292597]\n",
      "ztmp vaut: -2.234080410127138\n",
      "W= [-0.25624087 -0.8891939   0.02143818]\n",
      "Mutliplié par : [ 1.81006622 -0.16058116  0.35432232]\n",
      "bn affiche : [-0.22403708]\n",
      "ztmp vaut: -0.5374662097294453\n",
      "W= [-0.22091471 -0.37557018  1.83158636]\n",
      "Mutliplié par : [ 1.81006622 -0.16058116  0.35432232]\n",
      "bn affiche : [-0.31578079]\n",
      "ztmp vaut: -0.006369612931169999\n",
      "[0, 4.59351438610415, 0, 0, 0]\n",
      "Couche numéro : 1\n",
      "b vaut : [[-0.31808387]\n",
      " [ 1.22333761]]\n",
      "taille de w vaut :  2\n",
      "2\n",
      "[[ 0.49795072 -0.7943746  -0.62584153 -0.29373433 -0.24305745]\n",
      " [-0.01522761  0.90174649  0.78139613  0.91747751 -0.60514804]]\n",
      "W= [ 0.49795072 -0.7943746  -0.62584153 -0.29373433 -0.24305745]\n",
      "Mutliplié par : [0, 4.59351438610415, 0, 0, 0]\n",
      "bn affiche : [-0.31808387]\n",
      "ztmp vaut: -3.9670550290084345\n",
      "W= [-0.01522761  0.90174649  0.78139613  0.91747751 -0.60514804]\n",
      "Mutliplié par : [0, 4.59351438610415, 0, 0, 0]\n",
      "bn affiche : [1.22333761]\n",
      "ztmp vaut: 5.3655230999921475\n",
      "[-3.9670550290084345, 5.3655230999921475]\n",
      "Couche numéro : 2\n",
      "b vaut : [[0.34813919]]\n",
      "taille de w vaut :  1\n",
      "1\n",
      "[[0.70482675 0.24931964]]\n",
      "W= [0.70482675 0.24931964]\n",
      "Mutliplié par : [-3.9670550290084345, 5.3655230999921475]\n",
      "bn affiche : [0.34813919]\n",
      "ztmp vaut: -1.1102170469242068\n",
      "[-1.1102170469242068]\n"
     ]
    }
   ],
   "source": [
    "r.propagation_avant()"
   ]
  },
  {
   "cell_type": "code",
   "execution_count": 469,
   "metadata": {},
   "outputs": [
    {
     "data": {
      "text/plain": [
       "[[0, 4.59351438610415, 0, 0, 0],\n",
       " [-3.9670550290084345, 5.3655230999921475],\n",
       " [-1.1102170469242068]]"
      ]
     },
     "execution_count": 469,
     "metadata": {},
     "output_type": "execute_result"
    }
   ],
   "source": [
    "r.asave"
   ]
  },
  {
   "cell_type": "code",
   "execution_count": 470,
   "metadata": {},
   "outputs": [
    {
     "data": {
      "text/plain": [
       "0"
      ]
     },
     "execution_count": 470,
     "metadata": {},
     "output_type": "execute_result"
    }
   ],
   "source": [
    "test = []\n",
    "len(test)"
   ]
  },
  {
   "cell_type": "code",
   "execution_count": 471,
   "metadata": {},
   "outputs": [
    {
     "data": {
      "text/plain": [
       "[[-1.5851287792786635,\n",
       "  4.59351438610415,\n",
       "  -2.234080410127138,\n",
       "  -0.5374662097294453,\n",
       "  -0.006369612931169999],\n",
       " [-3.9670550290084345, 5.3655230999921475],\n",
       " [-1.1102170469242068]]"
      ]
     },
     "execution_count": 471,
     "metadata": {},
     "output_type": "execute_result"
    }
   ],
   "source": [
    "r.zsave"
   ]
  },
  {
   "cell_type": "code",
   "execution_count": 472,
   "metadata": {},
   "outputs": [
    {
     "name": "stdout",
     "output_type": "stream",
     "text": [
      "-1.1102170469242068\n",
      "l 2\n",
      "asave [-3.96705503  5.3655231 ]\n",
      "Vecteur gw :  [array([ 5.4575424 , -7.38143777])]\n",
      "[-7.50803022 10.15476451]\n",
      "l 1\n",
      "asave [0.         4.59351439 0.         0.         0.        ]\n",
      "Vecteur gw :  [array([-0.        , -6.31937277, -0.        , -0.        , -0.        ])]\n",
      "[0.         8.69366434 0.         0.         0.        ]\n"
     ]
    }
   ],
   "source": [
    "print(r.prediction)\n",
    "r.retropropagation([r.cout_quadratique_derivee(-0.42235888,r.prediction)])"
   ]
  },
  {
   "cell_type": "code",
   "execution_count": null,
   "metadata": {},
   "outputs": [],
   "source": []
  },
  {
   "cell_type": "code",
   "execution_count": null,
   "metadata": {},
   "outputs": [],
   "source": []
  },
  {
   "cell_type": "code",
   "execution_count": null,
   "metadata": {},
   "outputs": [],
   "source": []
  },
  {
   "cell_type": "code",
   "execution_count": null,
   "metadata": {},
   "outputs": [],
   "source": []
  },
  {
   "cell_type": "code",
   "execution_count": null,
   "metadata": {},
   "outputs": [],
   "source": []
  }
 ],
 "metadata": {
  "kernelspec": {
   "display_name": "Python 3",
   "language": "python",
   "name": "python3"
  },
  "language_info": {
   "codemirror_mode": {
    "name": "ipython",
    "version": 3
   },
   "file_extension": ".py",
   "mimetype": "text/x-python",
   "name": "python",
   "nbconvert_exporter": "python",
   "pygments_lexer": "ipython3",
   "version": "3.8.5"
  }
 },
 "nbformat": 4,
 "nbformat_minor": 4
}
