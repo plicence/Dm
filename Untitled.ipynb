{
 "cells": [
  {
   "cell_type": "code",
   "execution_count": 605,
   "metadata": {},
   "outputs": [],
   "source": [
    "import numpy as np"
   ]
  },
  {
   "cell_type": "code",
   "execution_count": 606,
   "metadata": {},
   "outputs": [],
   "source": [
    "class ReseauNeurones:\n",
    "    \n",
    "    def __init__(self, taille = 1):\n",
    "        self.taille = taille\n",
    "        self.liste_fonctions= None\n",
    "        self.x = None\n",
    "        self.y = None\n",
    "        self.w = []\n",
    "        self.b = []\n",
    "        self.liste_fonctions = []\n",
    "        self.liste_derivees = []\n",
    "        self.zsave = []\n",
    "        self.asave = []\n",
    "        self.prediction = None\n",
    "        self.gradientw = []\n",
    "        self.gradientb = []\n",
    "        \n",
    "    def ajouter_couche(self, f_activation, derivee_f_activation, nb_neurones = 1):\n",
    "        self.liste_fonctions.append(f_activation)\n",
    "        self.liste_derivees.append(derivee_f_activation)\n",
    "        if(len(self.w)==0):\n",
    "            pass\n",
    "            #self.w.append(np.random.normal(size = (nb_neurones,self.taille)))\n",
    "        else:\n",
    "            print(\"herre\", len(self.w[len(self.w)-1]))\n",
    "            #self.w.append(np.random.normal(size = (nb_neurones,len(self.w[len(self.w)-1]))))\n",
    "        #self.b.append(np.random.normal(size = (nb_neurones,1)))\n",
    "        \n",
    "    def set_data(self, x, y):\n",
    "        self.x = x\n",
    "        self.y = y\n",
    "    \n",
    "    def propagation_avant(self):\n",
    "        z = []\n",
    "        a = []\n",
    "        ztmp=0\n",
    "        L = len(self.liste_fonctions)\n",
    "        print(\"Nombre couches:\", L)\n",
    "        x=self.x[0]\n",
    "        self.asave.append(x)\n",
    "        print(\"x vaut:\",x)\n",
    "        for l in range(0, L): #toutes les couches\n",
    "            print(\"Couche numéro :\", l)\n",
    "            w = self.w[l]\n",
    "            b = self.b[l]\n",
    "            print(\"b vaut :\", b)\n",
    "            n = len(w)\n",
    "            print(\"taille de w vaut : \", n)\n",
    "            print(n)\n",
    "            print(w)\n",
    "            for nloop in range(0, n): #tous les neurones de chaque couches\n",
    "                print(\"W=\",w[nloop])\n",
    "                print(\"Mutliplié par :\", x)\n",
    "                wn = w[nloop]\n",
    "                bn = b[nloop]\n",
    "                print(\"bn affiche :\", bn)\n",
    "                print(\"Produit\",wn.dot(x))\n",
    "                ztmp = wn.dot(x) + bn[0] #On calcul les différents z\n",
    "                z.append(ztmp)\n",
    "                print(\"ztmp vaut:\", ztmp)\n",
    "                ztmp = self.liste_fonctions[l](ztmp) #f(z)\n",
    "                a.append(ztmp)\n",
    "            print(a)\n",
    "            x = a\n",
    "            self.asave.append(a)\n",
    "            self.zsave.append(z)\n",
    "            a = []\n",
    "            z = []\n",
    "            \n",
    "                #for i in range(0, self.taille): #caractéristiques d'un neurone\n",
    "                 #   print(\"Caractéristique i\", wn[i])\n",
    "                 #   print(\"Valeur xi\",x)\n",
    "            \n",
    "            \"\"\"ztmp += w[i].dot(x[i])\n",
    "            ztmp += b\n",
    "            z.append(ztmp)\n",
    "            \"\"\"\n",
    "        \n",
    "        self.prediction = ztmp\n",
    "        \n",
    "    def retropropagation(self, nabla_C): \n",
    "        L = len(self.liste_fonctions)\n",
    "        ga = nabla_C\n",
    "        print(self.asave)\n",
    "        for l in range(L-1,-1,-1):\n",
    "            print(\"l\",l)\n",
    "            gz = []\n",
    "            gw = []\n",
    "            print(\"ga vaut :\",ga)\n",
    "            for k in range(0, len(ga)):\n",
    "                print(\" ga\", ga)\n",
    "                print(\" z\", self.zsave[l])\n",
    "                print(\"Relu prime \", k,self.liste_derivees[l](self.zsave[l][k]))\n",
    "                gz.append(ga[k]*self.liste_derivees[l](self.zsave[l][k]))\n",
    "            al = np.array(self.asave[l]).T\n",
    "            print(\"al\", al)\n",
    "            print(\"gz\", gz)\n",
    "            print(\"asave\", al)\n",
    "            for i in range(0,len(gz)):\n",
    "                gwi = gz[i]*al\n",
    "                gw.append(gwi)\n",
    "            print(\"Vecteur gw : \",gw)\n",
    "            ga=[]\n",
    "            ga = self.w[l].T.dot(gz)\n",
    "            print(\"ga vaut :\", ga)\n",
    "            self.gradientb.append(gz)\n",
    "            self.gradientw.append(gw)\n",
    "            \n",
    "            \n",
    "            \n",
    "        # gz.dot(self.asave[l-1])\n",
    "                #gz.append(nabla_C[k]*self.liste_derivees[l](self.zsave[k]))\n",
    "            #gz = ga * self.liste_derivees()\n",
    "        \n",
    "        \n",
    "    \n",
    "    def pas_gradient(self, taux_apprentissage):\n",
    "        \n",
    "        max_iter = 10000\n",
    "        \"\"\" Minimise l'EQM par descente de gradient stochastique\n",
    "        X matrice des données\n",
    "        y vecteur des cibles\n",
    "        alpha pas d'apprentissage\n",
    "        epsilon tolérance\n",
    "        a0 point initial\"\"\"\n",
    "        k = 0\n",
    "        L = len(self.liste_fonctions)\n",
    "\n",
    "        self.w = np.flip(self.w)\n",
    "        self.b = np.flip(self.b)\n",
    "        while  k<max_iter:\n",
    "            \n",
    "            for l in range(0, L):\n",
    "                for i in range(0, len(self.w[l])):\n",
    "                    for j in range(0, len(self.w[l][i])):\n",
    "                        self.w[l][i][j] = self.w[l][i][j] - taux_apprentissage*self.gradientw[l][i][j]\n",
    "                    self.b[l][i] = self.b[l][i] - taux_apprentissage * self.gradientb[l][i]\n",
    "            k +=1\n",
    "\n",
    "        return k\n",
    "    \n",
    "    \n",
    "    def relu(self):\n",
    "        return lambda t : max(0,t)\n",
    "    \n",
    "    def relu_derivee(self):\n",
    "        return lambda t : 1 if t > 0 else 0\n",
    "    \n",
    "    def identite(self):\n",
    "        return lambda t : t\n",
    "    \n",
    "    def identite_derivee(self):\n",
    "        return lambda t : 1\n",
    "    \n",
    "    def cout_quadratique(self,y,prediction):\n",
    "        return (prediction-y)**2\n",
    "        \n",
    "    def cout_quadratique_derivee(self,y,prediction) : \n",
    "        return 2*(prediction-y)"
   ]
  },
  {
   "cell_type": "code",
   "execution_count": 607,
   "metadata": {},
   "outputs": [],
   "source": [
    "r = ReseauNeurones(2)"
   ]
  },
  {
   "cell_type": "code",
   "execution_count": 608,
   "metadata": {},
   "outputs": [
    {
     "name": "stdout",
     "output_type": "stream",
     "text": [
      "[[ 1 -2]]\n"
     ]
    }
   ],
   "source": [
    "a= [[1 , -2]]\n",
    "a = np.array(a)\n",
    "print(a)\n",
    "a.T\n",
    "\n",
    "r.w.append(np.array([[0, -1],[ 2, -3],[ 1, -1]]))\n",
    "r.w.append(np.array([[ 0,  1,  -1], [ 2, -2, 1]]))\n",
    "r.w.append(np.array([[2, -1]]))\n",
    "r.b.append(np.array([[0],[ 1],[-1]]))\n",
    "r.b.append(np.array([[1],[-2]]))\n",
    "r.b.append(np.array([[0]]))"
   ]
  },
  {
   "cell_type": "code",
   "execution_count": 609,
   "metadata": {},
   "outputs": [
    {
     "name": "stdout",
     "output_type": "stream",
     "text": [
      "[[ 1 -2]\n",
      " [ 1  1]]\n"
     ]
    }
   ],
   "source": [
    "A=[]\n",
    "test=np.append(a,[[1,1]],axis=0)\n",
    "print(test)"
   ]
  },
  {
   "cell_type": "code",
   "execution_count": 610,
   "metadata": {},
   "outputs": [
    {
     "name": "stdout",
     "output_type": "stream",
     "text": [
      "2\n"
     ]
    },
    {
     "ename": "AttributeError",
     "evalue": "'int' object has no attribute 'T'",
     "output_type": "error",
     "traceback": [
      "\u001b[1;31m---------------------------------------------------------------------------\u001b[0m",
      "\u001b[1;31mAttributeError\u001b[0m                            Traceback (most recent call last)",
      "\u001b[1;32m<ipython-input-610-78b44c269ce8>\u001b[0m in \u001b[0;36m<module>\u001b[1;34m\u001b[0m\n\u001b[0;32m      1\u001b[0m \u001b[0mr\u001b[0m\u001b[1;33m.\u001b[0m\u001b[0mset_data\u001b[0m\u001b[1;33m(\u001b[0m\u001b[0ma\u001b[0m\u001b[1;33m[\u001b[0m\u001b[1;33m:\u001b[0m\u001b[1;33m,\u001b[0m\u001b[1;36m0\u001b[0m\u001b[1;33m:\u001b[0m\u001b[1;36m2\u001b[0m\u001b[1;33m]\u001b[0m\u001b[1;33m,\u001b[0m\u001b[1;36m2\u001b[0m\u001b[1;33m)\u001b[0m\u001b[1;33m\u001b[0m\u001b[1;33m\u001b[0m\u001b[0m\n\u001b[0;32m      2\u001b[0m \u001b[0mprint\u001b[0m\u001b[1;33m(\u001b[0m\u001b[0mr\u001b[0m\u001b[1;33m.\u001b[0m\u001b[0my\u001b[0m\u001b[1;33m)\u001b[0m\u001b[1;33m\u001b[0m\u001b[1;33m\u001b[0m\u001b[0m\n\u001b[1;32m----> 3\u001b[1;33m \u001b[0mprint\u001b[0m\u001b[1;33m(\u001b[0m\u001b[0mr\u001b[0m\u001b[1;33m.\u001b[0m\u001b[0my\u001b[0m\u001b[1;33m.\u001b[0m\u001b[0mT\u001b[0m\u001b[1;33m)\u001b[0m\u001b[1;33m\u001b[0m\u001b[1;33m\u001b[0m\u001b[0m\n\u001b[0m\u001b[0;32m      4\u001b[0m \u001b[0mprint\u001b[0m\u001b[1;33m(\u001b[0m\u001b[0mr\u001b[0m\u001b[1;33m.\u001b[0m\u001b[0mx\u001b[0m\u001b[1;33m)\u001b[0m\u001b[1;33m\u001b[0m\u001b[1;33m\u001b[0m\u001b[0m\n",
      "\u001b[1;31mAttributeError\u001b[0m: 'int' object has no attribute 'T'"
     ]
    }
   ],
   "source": [
    "r.set_data(a[:,0:2],2)\n",
    "print(r.y)\n",
    "print(r.y.T)\n",
    "print(r.x)"
   ]
  },
  {
   "cell_type": "code",
   "execution_count": 611,
   "metadata": {},
   "outputs": [
    {
     "name": "stdout",
     "output_type": "stream",
     "text": [
      "1\n",
      "herre 1\n",
      "2\n",
      "herre 1\n",
      "herre 1\n",
      "[array([[ 0, -1],\n",
      "       [ 2, -3],\n",
      "       [ 1, -1]]), array([[ 0,  1, -1],\n",
      "       [ 2, -2,  1]]), array([[ 2, -1]])]\n",
      "0\n",
      "0\n"
     ]
    }
   ],
   "source": [
    "print(1)\n",
    "r.ajouter_couche(r.relu(),r.relu_derivee(),3)\n",
    "print(2)\n",
    "r.ajouter_couche(r.relu(),r.relu_derivee(),2)\n",
    "r.ajouter_couche(r.identite(),r.identite_derivee(),1)\n",
    "print(r.w)\n",
    "print(r.liste_fonctions[0](-10))\n",
    "print(r.liste_fonctions[1](-1))"
   ]
  },
  {
   "cell_type": "code",
   "execution_count": 612,
   "metadata": {},
   "outputs": [
    {
     "name": "stdout",
     "output_type": "stream",
     "text": [
      "[[ 1 -2]]\n",
      "Nombre couches: 3\n",
      "x vaut: [ 1 -2]\n",
      "Couche numéro : 0\n",
      "b vaut : [[ 0]\n",
      " [ 1]\n",
      " [-1]]\n",
      "taille de w vaut :  3\n",
      "3\n",
      "[[ 0 -1]\n",
      " [ 2 -3]\n",
      " [ 1 -1]]\n",
      "W= [ 0 -1]\n",
      "Mutliplié par : [ 1 -2]\n",
      "bn affiche : [0]\n",
      "Produit 2\n",
      "ztmp vaut: 2\n",
      "W= [ 2 -3]\n",
      "Mutliplié par : [ 1 -2]\n",
      "bn affiche : [1]\n",
      "Produit 8\n",
      "ztmp vaut: 9\n",
      "W= [ 1 -1]\n",
      "Mutliplié par : [ 1 -2]\n",
      "bn affiche : [-1]\n",
      "Produit 3\n",
      "ztmp vaut: 2\n",
      "[2, 9, 2]\n",
      "Couche numéro : 1\n",
      "b vaut : [[ 1]\n",
      " [-2]]\n",
      "taille de w vaut :  2\n",
      "2\n",
      "[[ 0  1 -1]\n",
      " [ 2 -2  1]]\n",
      "W= [ 0  1 -1]\n",
      "Mutliplié par : [2, 9, 2]\n",
      "bn affiche : [1]\n",
      "Produit 7\n",
      "ztmp vaut: 8\n",
      "W= [ 2 -2  1]\n",
      "Mutliplié par : [2, 9, 2]\n",
      "bn affiche : [-2]\n",
      "Produit -12\n",
      "ztmp vaut: -14\n",
      "[8, 0]\n",
      "Couche numéro : 2\n",
      "b vaut : [[0]]\n",
      "taille de w vaut :  1\n",
      "1\n",
      "[[ 2 -1]]\n",
      "W= [ 2 -1]\n",
      "Mutliplié par : [8, 0]\n",
      "bn affiche : [0]\n",
      "Produit 16\n",
      "ztmp vaut: 16\n",
      "[16]\n"
     ]
    }
   ],
   "source": [
    "print(r.x)\n",
    "r.propagation_avant()\n"
   ]
  },
  {
   "cell_type": "code",
   "execution_count": 613,
   "metadata": {},
   "outputs": [
    {
     "data": {
      "text/plain": [
       "[array([ 1, -2]), [2, 9, 2], [8, 0], [16]]"
      ]
     },
     "execution_count": 613,
     "metadata": {},
     "output_type": "execute_result"
    }
   ],
   "source": [
    "r.asave"
   ]
  },
  {
   "cell_type": "code",
   "execution_count": 614,
   "metadata": {},
   "outputs": [
    {
     "data": {
      "text/plain": [
       "0"
      ]
     },
     "execution_count": 614,
     "metadata": {},
     "output_type": "execute_result"
    }
   ],
   "source": [
    "test = []\n",
    "len(test)"
   ]
  },
  {
   "cell_type": "code",
   "execution_count": 615,
   "metadata": {},
   "outputs": [
    {
     "data": {
      "text/plain": [
       "[[2, 9, 2], [8, -14], [16]]"
      ]
     },
     "execution_count": 615,
     "metadata": {},
     "output_type": "execute_result"
    }
   ],
   "source": [
    "r.zsave"
   ]
  },
  {
   "cell_type": "code",
   "execution_count": 616,
   "metadata": {
    "scrolled": false
   },
   "outputs": [
    {
     "name": "stdout",
     "output_type": "stream",
     "text": [
      "16\n",
      "[array([ 1, -2]), [2, 9, 2], [8, 0], [16]]\n",
      "l 2\n",
      "ga vaut : [30]\n",
      " ga [30]\n",
      " z [16]\n",
      "Relu prime  0 1\n",
      "al [8 0]\n",
      "gz [30]\n",
      "asave [8 0]\n",
      "Vecteur gw :  [array([240,   0])]\n",
      "ga vaut : [ 60 -30]\n",
      "l 1\n",
      "ga vaut : [ 60 -30]\n",
      " ga [ 60 -30]\n",
      " z [8, -14]\n",
      "Relu prime  0 1\n",
      " ga [ 60 -30]\n",
      " z [8, -14]\n",
      "Relu prime  1 0\n",
      "al [2 9 2]\n",
      "gz [60, 0]\n",
      "asave [2 9 2]\n",
      "Vecteur gw :  [array([120, 540, 120]), array([0, 0, 0])]\n",
      "ga vaut : [  0  60 -60]\n",
      "l 0\n",
      "ga vaut : [  0  60 -60]\n",
      " ga [  0  60 -60]\n",
      " z [2, 9, 2]\n",
      "Relu prime  0 1\n",
      " ga [  0  60 -60]\n",
      " z [2, 9, 2]\n",
      "Relu prime  1 1\n",
      " ga [  0  60 -60]\n",
      " z [2, 9, 2]\n",
      "Relu prime  2 1\n",
      "al [ 1 -2]\n",
      "gz [0, 60, -60]\n",
      "asave [ 1 -2]\n",
      "Vecteur gw :  [array([0, 0]), array([  60, -120]), array([-60, 120])]\n",
      "ga vaut : [  60 -120]\n"
     ]
    }
   ],
   "source": [
    "print(r.prediction)\n",
    "r.retropropagation([r.cout_quadratique_derivee(1,r.prediction)])"
   ]
  },
  {
   "cell_type": "code",
   "execution_count": 617,
   "metadata": {},
   "outputs": [
    {
     "name": "stdout",
     "output_type": "stream",
     "text": [
      "[array([[ 0, -1],\n",
      "       [ 2, -3],\n",
      "       [ 1, -1]]), array([[ 0,  1, -1],\n",
      "       [ 2, -2,  1]]), array([[ 2, -1]])]\n"
     ]
    }
   ],
   "source": [
    "print(r.w)"
   ]
  },
  {
   "cell_type": "code",
   "execution_count": 618,
   "metadata": {},
   "outputs": [
    {
     "name": "stdout",
     "output_type": "stream",
     "text": [
      "[[array([240,   0])], [array([120, 540, 120]), array([0, 0, 0])], [array([0, 0]), array([  60, -120]), array([-60, 120])]]\n"
     ]
    }
   ],
   "source": [
    "print(r.gradientw)"
   ]
  },
  {
   "cell_type": "code",
   "execution_count": 619,
   "metadata": {},
   "outputs": [
    {
     "name": "stdout",
     "output_type": "stream",
     "text": [
      "[list([7, 8, 9]) list([5, 6]) list([3, 4]) list([1, 2])]\n"
     ]
    }
   ],
   "source": [
    "jsp = [[1,2],[3,4],[5,6],[7,8,9]]\n",
    "print(np.flip(jsp))"
   ]
  },
  {
   "cell_type": "code",
   "execution_count": 620,
   "metadata": {},
   "outputs": [
    {
     "data": {
      "text/plain": [
       "10000"
      ]
     },
     "execution_count": 620,
     "metadata": {},
     "output_type": "execute_result"
    }
   ],
   "source": [
    "r.pas_gradient(0.1)"
   ]
  },
  {
   "cell_type": "code",
   "execution_count": 621,
   "metadata": {},
   "outputs": [
    {
     "data": {
      "text/plain": [
       "[[30], [60, 0], [0, 60, -60]]"
      ]
     },
     "execution_count": 621,
     "metadata": {},
     "output_type": "execute_result"
    }
   ],
   "source": [
    "r.gradientb"
   ]
  },
  {
   "cell_type": "code",
   "execution_count": 622,
   "metadata": {},
   "outputs": [
    {
     "name": "stdout",
     "output_type": "stream",
     "text": [
      "Nombre couches: 3\n",
      "x vaut: [ 1 -2]\n",
      "Couche numéro : 0\n",
      "b vaut : [[-30000]]\n",
      "taille de w vaut :  1\n",
      "1\n",
      "[[-239998      -1]]\n",
      "W= [-239998      -1]\n",
      "Mutliplié par : [ 1 -2]\n",
      "bn affiche : [-30000]\n",
      "Produit -239996\n",
      "ztmp vaut: -269996\n",
      "[0]\n",
      "Couche numéro : 1\n",
      "b vaut : [[-59999]\n",
      " [    -2]]\n",
      "taille de w vaut :  2\n",
      "2\n",
      "[[-120000 -539999 -120001]\n",
      " [      2      -2       1]]\n",
      "W= [-120000 -539999 -120001]\n",
      "Mutliplié par : [0]\n",
      "bn affiche : [-59999]\n"
     ]
    },
    {
     "ename": "ValueError",
     "evalue": "shapes (3,) and (1,) not aligned: 3 (dim 0) != 1 (dim 0)",
     "output_type": "error",
     "traceback": [
      "\u001b[1;31m---------------------------------------------------------------------------\u001b[0m",
      "\u001b[1;31mValueError\u001b[0m                                Traceback (most recent call last)",
      "\u001b[1;32m<ipython-input-622-5876cfeb3033>\u001b[0m in \u001b[0;36m<module>\u001b[1;34m\u001b[0m\n\u001b[1;32m----> 1\u001b[1;33m \u001b[0mr\u001b[0m\u001b[1;33m.\u001b[0m\u001b[0mpropagation_avant\u001b[0m\u001b[1;33m(\u001b[0m\u001b[1;33m)\u001b[0m\u001b[1;33m\u001b[0m\u001b[1;33m\u001b[0m\u001b[0m\n\u001b[0m",
      "\u001b[1;32m<ipython-input-606-b3ed95d12108>\u001b[0m in \u001b[0;36mpropagation_avant\u001b[1;34m(self)\u001b[0m\n\u001b[0;32m     55\u001b[0m                 \u001b[0mbn\u001b[0m \u001b[1;33m=\u001b[0m \u001b[0mb\u001b[0m\u001b[1;33m[\u001b[0m\u001b[0mnloop\u001b[0m\u001b[1;33m]\u001b[0m\u001b[1;33m\u001b[0m\u001b[1;33m\u001b[0m\u001b[0m\n\u001b[0;32m     56\u001b[0m                 \u001b[0mprint\u001b[0m\u001b[1;33m(\u001b[0m\u001b[1;34m\"bn affiche :\"\u001b[0m\u001b[1;33m,\u001b[0m \u001b[0mbn\u001b[0m\u001b[1;33m)\u001b[0m\u001b[1;33m\u001b[0m\u001b[1;33m\u001b[0m\u001b[0m\n\u001b[1;32m---> 57\u001b[1;33m                 \u001b[0mprint\u001b[0m\u001b[1;33m(\u001b[0m\u001b[1;34m\"Produit\"\u001b[0m\u001b[1;33m,\u001b[0m\u001b[0mwn\u001b[0m\u001b[1;33m.\u001b[0m\u001b[0mdot\u001b[0m\u001b[1;33m(\u001b[0m\u001b[0mx\u001b[0m\u001b[1;33m)\u001b[0m\u001b[1;33m)\u001b[0m\u001b[1;33m\u001b[0m\u001b[1;33m\u001b[0m\u001b[0m\n\u001b[0m\u001b[0;32m     58\u001b[0m                 \u001b[0mztmp\u001b[0m \u001b[1;33m=\u001b[0m \u001b[0mwn\u001b[0m\u001b[1;33m.\u001b[0m\u001b[0mdot\u001b[0m\u001b[1;33m(\u001b[0m\u001b[0mx\u001b[0m\u001b[1;33m)\u001b[0m \u001b[1;33m+\u001b[0m \u001b[0mbn\u001b[0m\u001b[1;33m[\u001b[0m\u001b[1;36m0\u001b[0m\u001b[1;33m]\u001b[0m \u001b[1;31m#On calcul les différents z\u001b[0m\u001b[1;33m\u001b[0m\u001b[1;33m\u001b[0m\u001b[0m\n\u001b[0;32m     59\u001b[0m                 \u001b[0mz\u001b[0m\u001b[1;33m.\u001b[0m\u001b[0mappend\u001b[0m\u001b[1;33m(\u001b[0m\u001b[0mztmp\u001b[0m\u001b[1;33m)\u001b[0m\u001b[1;33m\u001b[0m\u001b[1;33m\u001b[0m\u001b[0m\n",
      "\u001b[1;31mValueError\u001b[0m: shapes (3,) and (1,) not aligned: 3 (dim 0) != 1 (dim 0)"
     ]
    }
   ],
   "source": [
    "r.propagation_avant()"
   ]
  },
  {
   "cell_type": "code",
   "execution_count": null,
   "metadata": {},
   "outputs": [],
   "source": []
  }
 ],
 "metadata": {
  "kernelspec": {
   "display_name": "Python 3",
   "language": "python",
   "name": "python3"
  },
  "language_info": {
   "codemirror_mode": {
    "name": "ipython",
    "version": 3
   },
   "file_extension": ".py",
   "mimetype": "text/x-python",
   "name": "python",
   "nbconvert_exporter": "python",
   "pygments_lexer": "ipython3",
   "version": "3.8.5"
  }
 },
 "nbformat": 4,
 "nbformat_minor": 4
}
