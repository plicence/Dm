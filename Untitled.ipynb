{
 "cells": [
  {
   "cell_type": "code",
   "execution_count": 23,
   "metadata": {},
   "outputs": [],
   "source": [
    "import numpy as np"
   ]
  },
  {
   "cell_type": "code",
   "execution_count": 386,
   "metadata": {},
   "outputs": [],
   "source": [
    "class ReseauNeurones:\n",
    "    \n",
    "    def __init__(self, taille = 1):\n",
    "        self.taille = taille\n",
    "        self.liste_fonctions= None\n",
    "        self.x = None\n",
    "        self.y = None\n",
    "        self.w = []\n",
    "        self.b = []\n",
    "        self.liste_fonctions = []\n",
    "        self.liste_derivees = []\n",
    "        self.zsave = []\n",
    "        self.asave = []\n",
    "        self.prediction = None\n",
    "        self.gradientw = []\n",
    "        self.gradientb = []\n",
    "        \n",
    "    def ajouter_couche(self, f_activation, derivee_f_activation, nb_neurones = 1):\n",
    "        self.liste_fonctions.append(f_activation)\n",
    "        self.liste_derivees.append(derivee_f_activation)\n",
    "        if(len(self.w)==0):\n",
    "            pass\n",
    "            #self.w.append(np.random.normal(size = (nb_neurones,self.taille)))\n",
    "        else:\n",
    "            print(\"herre\", len(self.w[len(self.w)-1]))\n",
    "            #self.w.append(np.random.normal(size = (nb_neurones,len(self.w[len(self.w)-1]))))\n",
    "        #self.b.append(np.random.normal(size = (nb_neurones,1)))\n",
    "        \n",
    "    def set_data(self, x, y):\n",
    "        self.x = x\n",
    "        self.y = y\n",
    "    \n",
    "    def propagation_avant(self,vecteur_entree):\n",
    "        z = []\n",
    "        a = []\n",
    "        ztmp=0\n",
    "        L = len(self.liste_fonctions)\n",
    "        #print(\"Nombre couches:\", L)\n",
    "        x=vecteur_entree\n",
    "        self.asave = []\n",
    "        self.zsave = []\n",
    "        self.asave.append(x)\n",
    "        \n",
    "        for l in range(0, L): #toutes les couches\n",
    "         #   print(\"Couche numéro :\", l)\n",
    "          #  print(\"a_i vaut:\",x)\n",
    "            w = self.w[l]\n",
    "            b = self.b[l]\n",
    "           # print(\"b vaut :\", b)\n",
    "            n = len(w)\n",
    "           # print(\"taille de w vaut : \", n)\n",
    "           # print(n)\n",
    "           # print(w)\n",
    "            for nloop in range(0, n): #tous les neurones de chaque couches\n",
    "                #print(\"W=\",w[nloop])\n",
    "                #print(\"Mutliplié par :\", x)\n",
    "                wn = w[nloop]\n",
    "                bn = b[nloop]\n",
    "            #    print(\"bn affiche :\", bn)\n",
    "             #   print(\"Produit\",wn.dot(x))\n",
    "                ztmp = wn.dot(x) + bn[0] #On calcul les différents z\n",
    "                z.append(ztmp)\n",
    "              #  print(\"ztmp vaut:\", ztmp)\n",
    "                ztmp = self.liste_fonctions[l](ztmp) #f(z)\n",
    "                a.append(ztmp)\n",
    "           # print(a)\n",
    "            x = a\n",
    "            self.asave.append(a)\n",
    "          #  print(\"asave est de :\",self.asave)\n",
    "            self.zsave.append(z)\n",
    "            a = []\n",
    "            z = []\n",
    "            \n",
    "                #for i in range(0, self.taille): #caractéristiques d'un neurone\n",
    "                 #   print(\"Caractéristique i\", wn[i])\n",
    "                 #   print(\"Valeur xi\",x)\n",
    "            \n",
    "            \"\"\"ztmp += w[i].dot(x[i])\n",
    "            ztmp += b\n",
    "            z.append(ztmp)\n",
    "            \"\"\"\n",
    "        \n",
    "        self.prediction = ztmp\n",
    "        \n",
    "    def retropropagation(self, nabla_C): \n",
    "        L = len(self.liste_fonctions)\n",
    "        ga = nabla_C\n",
    "       # print(self.asave)\n",
    "        for l in range(L-1,-1,-1):\n",
    "            #print(\"l\",l)\n",
    "            gz = []\n",
    "            gw = []\n",
    "           # print(\"ga vaut :\",ga)\n",
    "            for k in range(0, len(ga)):\n",
    "                #print(\" ga\", ga)\n",
    "                #print(\" z\", self.zsave[l])\n",
    "                #print(\"Relu prime \", k,self.liste_derivees[l](self.zsave[l][k]))\n",
    "                gz.append(ga[k]*self.liste_derivees[l](self.zsave[l][k]))\n",
    "            al = np.array(self.asave[l]).T\n",
    "           # print(\"al\", al)\n",
    "           # print(\"gz\", gz)\n",
    "           # print(\"asave\", al)\n",
    "            for i in range(0,len(gz)):\n",
    "                gwi = gz[i]*al\n",
    "                gw.append(gwi)\n",
    "           # print(\"Vecteur gw : \",gw)\n",
    "            ga=[]\n",
    "            ga = self.w[l].T.dot(gz)\n",
    "            #print(\"ga vaut :\", ga)\n",
    "            self.gradientb.append(gz)\n",
    "            self.gradientw.append(gw)\n",
    "            \n",
    "            \n",
    "            \n",
    "        # gz.dot(self.asave[l-1])\n",
    "                #gz.append(nabla_C[k]*self.liste_derivees[l](self.zsave[k]))\n",
    "            #gz = ga * self.liste_derivees()\n",
    "        \n",
    "        \n",
    "    \n",
    "    def pas_gradient(self, taux_apprentissage):\n",
    "        \n",
    "        L = len(self.liste_fonctions)\n",
    "        \n",
    "        #print(\"Avant le flip\", self.w)\n",
    "        \n",
    "        gradientw = np.flip(self.gradientw)\n",
    "        gradientb = np.flip(self.gradientb)\n",
    "            \n",
    "        for l in range(0, L):\n",
    "            #print(\"Gradient Wl = \",self.gradientw[l])\n",
    "            for i in range(0, len(self.w[l])):\n",
    "                self.w[l][i] = self.w[l][i] - taux_apprentissage * gradientw[l][i]\n",
    "                self.b[l][i] = self.b[l][i] - taux_apprentissage * gradientb[l][i]\n",
    "            #print(\"after WL = \", self.w[l])\n",
    "        #print(\"W ENTIER = \", self.w)\n",
    "        #print(\"B ENTIER = \", self.b)\n",
    "    \n",
    "    def descente_de_gradient(self, taux_apprentissage):\n",
    "        k = 0\n",
    "        max_iter = 3000\n",
    "        vecteur_prediction= np.ones(self.taille)\n",
    "        while k < max_iter :\n",
    "            self.propagation_avant(self.x[k%self.taille])\n",
    "            #print(\"------> RPREDICTION \" ,self.prediction)\n",
    "            self.retropropagation([self.cout_quadratique_derivee(self.y[k%self.taille],self.prediction)])\n",
    "            self.pas_gradient(0.01)\n",
    "            vecteur_prediction[k%self.taille] = self.prediction\n",
    "            k += 1\n",
    "        print(\"Le vecteur de prediction est :\", vecteur_prediction)\n",
    "    \n",
    "    def relu(self):\n",
    "        return lambda t : max(0,t)\n",
    "    \n",
    "    def relu_derivee(self):\n",
    "        return lambda t : 1 if t > 0 else 0\n",
    "    \n",
    "    def identite(self):\n",
    "        return lambda t : t\n",
    "    \n",
    "    def identite_derivee(self):\n",
    "        return lambda t : 1\n",
    "    \n",
    "    def cout_quadratique(self,y,prediction):\n",
    "        return (prediction-y)**2\n",
    "        \n",
    "    def cout_quadratique_derivee(self,y,prediction) : \n",
    "        return 2*(prediction-y)"
   ]
  },
  {
   "cell_type": "code",
   "execution_count": 387,
   "metadata": {},
   "outputs": [
    {
     "name": "stdout",
     "output_type": "stream",
     "text": [
      "[[  1  -2]\n",
      " [  1   4]\n",
      " [ 19 -20]\n",
      " [ 15 -45]]\n"
     ]
    },
    {
     "data": {
      "text/plain": [
       "[2, 4, 2, 3]"
      ]
     },
     "execution_count": 387,
     "metadata": {},
     "output_type": "execute_result"
    }
   ],
   "source": [
    "r = ReseauNeurones(4)\n",
    "a= [[1 , -2], [1,4], [19,-20], [15, -45]]\n",
    "a = np.array(a)\n",
    "print(a)\n",
    "a.T\n",
    "\n",
    "r.w.append(np.array([[0, -1],[ 2, -3],[ 1, -1]],dtype = float))\n",
    "r.w.append(np.array([[ 0,  1,  -1], [ 2, -2, 1]], dtype = float))\n",
    "r.w.append(np.array([[2, -1]], dtype = float))\n",
    "r.b.append(np.array([[0],[ 1],[-1]], dtype = float))\n",
    "r.b.append(np.array([[1],[-2]], dtype = float))\n",
    "r.b.append(np.array([[0]], dtype = float))\n",
    "\n",
    "r.set_data(a[:,0:2],[2,4,2,3])\n",
    "r.x\n",
    "r.y\n"
   ]
  },
  {
   "cell_type": "code",
   "execution_count": 388,
   "metadata": {},
   "outputs": [
    {
     "name": "stdout",
     "output_type": "stream",
     "text": [
      "1\n",
      "herre 1\n",
      "2\n",
      "herre 1\n",
      "herre 1\n",
      "[array([[ 0., -1.],\n",
      "       [ 2., -3.],\n",
      "       [ 1., -1.]]), array([[ 0.,  1., -1.],\n",
      "       [ 2., -2.,  1.]]), array([[ 2., -1.]])]\n",
      "0\n",
      "0\n"
     ]
    }
   ],
   "source": [
    "print(1)\n",
    "r.ajouter_couche(r.relu(),r.relu_derivee(),5)\n",
    "print(2)\n",
    "r.ajouter_couche(r.relu(),r.relu_derivee(),4)\n",
    "r.ajouter_couche(r.identite(),r.identite_derivee(),1)\n",
    "print(r.w)\n",
    "print(r.liste_fonctions[0](-10))\n",
    "print(r.liste_fonctions[1](-1))"
   ]
  },
  {
   "cell_type": "code",
   "execution_count": 389,
   "metadata": {},
   "outputs": [
    {
     "name": "stdout",
     "output_type": "stream",
     "text": [
      "Le vecteur de prediction est : [2.34008978 4.         2.33328799 2.32662223]\n"
     ]
    }
   ],
   "source": [
    "r.descente_de_gradient(0.001)"
   ]
  },
  {
   "cell_type": "code",
   "execution_count": null,
   "metadata": {
    "scrolled": false
   },
   "outputs": [],
   "source": []
  },
  {
   "cell_type": "code",
   "execution_count": 327,
   "metadata": {},
   "outputs": [
    {
     "name": "stdout",
     "output_type": "stream",
     "text": [
      "[1.]\n"
     ]
    }
   ],
   "source": [
    "print(vecteur_prediction)\n"
   ]
  },
  {
   "cell_type": "code",
   "execution_count": 303,
   "metadata": {},
   "outputs": [
    {
     "data": {
      "text/plain": [
       "[array([4, 5]), [0, 0, 0], [1.012787410786948, 0], [1.8283787194731156]]"
      ]
     },
     "execution_count": 303,
     "metadata": {},
     "output_type": "execute_result"
    }
   ],
   "source": [
    "r.asave"
   ]
  },
  {
   "cell_type": "code",
   "execution_count": null,
   "metadata": {},
   "outputs": [],
   "source": [
    "r.zsave"
   ]
  },
  {
   "cell_type": "code",
   "execution_count": null,
   "metadata": {
    "scrolled": false
   },
   "outputs": [],
   "source": [
    "print(r.prediction)\n",
    "r.retropropagation([r.cout_quadratique_derivee(1,r.prediction)])"
   ]
  },
  {
   "cell_type": "code",
   "execution_count": null,
   "metadata": {},
   "outputs": [],
   "source": [
    "print(r.w)\n",
    "print(r.gradientw)"
   ]
  },
  {
   "cell_type": "code",
   "execution_count": null,
   "metadata": {},
   "outputs": [],
   "source": [
    "r.pas_gradient(0.01)"
   ]
  },
  {
   "cell_type": "code",
   "execution_count": null,
   "metadata": {},
   "outputs": [],
   "source": [
    "print(r.w)\n",
    "print(r.b)"
   ]
  },
  {
   "cell_type": "code",
   "execution_count": null,
   "metadata": {},
   "outputs": [],
   "source": [
    "r.propagation_avant()\n"
   ]
  },
  {
   "cell_type": "code",
   "execution_count": 63,
   "metadata": {},
   "outputs": [
    {
     "data": {
      "text/plain": [
       "4"
      ]
     },
     "execution_count": 63,
     "metadata": {},
     "output_type": "execute_result"
    }
   ],
   "source": [
    "a = [1,2,3]\n",
    "a[1]\n",
    "a[1] = 4\n",
    "a[1]"
   ]
  },
  {
   "cell_type": "code",
   "execution_count": 70,
   "metadata": {},
   "outputs": [
    {
     "name": "stdout",
     "output_type": "stream",
     "text": [
      "Matrice de W [array([[ 0, -1],\n",
      "       [ 2, -3],\n",
      "       [ 1, -1]]), array([[ 0,  1, -1],\n",
      "       [ 2, -2,  1]]), array([[ 2, -1]])]\n",
      "Matrice de GW [[array([240,   0])], [array([120, 540, 120]), array([0, 0, 0])], [array([0, 0]), array([  60, -120]), array([-60, 120])]]\n"
     ]
    }
   ],
   "source": [
    "r.retropropagation([r.cout_quadratique_derivee(1,r.prediction)])\n",
    "\n"
   ]
  },
  {
   "cell_type": "code",
   "execution_count": 90,
   "metadata": {},
   "outputs": [
    {
     "name": "stdout",
     "output_type": "stream",
     "text": [
      "Matrice de W [array([[ 0, -1],\n",
      "       [ 2, -3],\n",
      "       [ 1, -1]]), array([[ 0,  1, -1],\n",
      "       [ 2, -2,  1]]), array([[ 2, -1]])]\n",
      "Matrice de GW [24.  0.]\n",
      "Matrice de GW [12. 54. 12.]\n",
      "Matrice de GW [0. 0. 0.]\n",
      "Matrice de GW [0. 0.]\n",
      "Matrice de GW [  6. -12.]\n",
      "Matrice de GW [-6. 12.]\n",
      "avant :  [24.  0.]\n"
     ]
    },
    {
     "data": {
      "text/plain": [
       "array([240.,   0.])"
      ]
     },
     "execution_count": 90,
     "metadata": {},
     "output_type": "execute_result"
    }
   ],
   "source": [
    "print(\"Matrice de W\",r.w)\n",
    "L = len(r.liste_fonctions)\n",
    "for l in range(0, L):\n",
    "    for i in range(0, len(r.gradientw[l])):\n",
    "        print(\"Matrice de GW\",0.1*r.gradientw[l][i])\n",
    "print(\"avant : \", (0.1*r.gradientw[0][0]))\n",
    "np.array([0,1]) - (0.1*r.gradientw[0][0])   \n",
    "np.array(r.gradientw[0][0], dtype = float)   "
   ]
  },
  {
   "cell_type": "code",
   "execution_count": null,
   "metadata": {},
   "outputs": [],
   "source": [
    "k = 0\n",
    "max_iter = 1000\n",
    "vecteur_prediction= np.ones(r.taille)\n",
    "while k < max_iter :\n",
    "    r.propagation_avant(r.x[k%r.taille])\n",
    "    print(\"------> RPREDICTION \" ,r.prediction)\n",
    "    r.retropropagation([r.cout_quadratique_derivee(r.y[k%r.taille],r.prediction)])\n",
    "    r.pas_gradient(0.01)\n",
    "    vecteur_prediction[k%r.taille] = r.prediction\n",
    "    k += 1"
   ]
  }
 ],
 "metadata": {
  "kernelspec": {
   "display_name": "Python 3",
   "language": "python",
   "name": "python3"
  },
  "language_info": {
   "codemirror_mode": {
    "name": "ipython",
    "version": 3
   },
   "file_extension": ".py",
   "mimetype": "text/x-python",
   "name": "python",
   "nbconvert_exporter": "python",
   "pygments_lexer": "ipython3",
   "version": "3.8.5"
  }
 },
 "nbformat": 4,
 "nbformat_minor": 4
}
