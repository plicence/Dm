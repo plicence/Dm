{
 "cells": [
  {
   "cell_type": "code",
   "execution_count": 1,
   "metadata": {},
   "outputs": [],
   "source": [
    "import numpy as np"
   ]
  },
  {
   "cell_type": "code",
   "execution_count": 49,
   "metadata": {},
   "outputs": [],
   "source": [
    "class ReseauNeurones:\n",
    "    \n",
    "    def __init__(self, taille = 1):\n",
    "        self.taille = taille\n",
    "        self.liste_fonctions= None\n",
    "        \n",
    "    def ajouter_couche(self,  f_activation, derivee_f_activation, nb_neurones = 1,):\n",
    "        self.liste_fonctions.add(f_activation)\n",
    "        \n",
    "        \n",
    "    def propagation_avant(self):\n",
    "        pass\n",
    "        \n",
    "    def retropropagation(self, nabla_C): \n",
    "        pass\n",
    "    \n",
    "    def pas_gradient(self, taux_apprentissage):\n",
    "        pass\n",
    "    \n",
    "    def relu(self, t):\n",
    "        return max(0,t)\n",
    "    \n",
    "    def relu_derivee(self, t):\n",
    "        return t\n",
    "        \n",
    "        "
   ]
  },
  {
   "cell_type": "code",
   "execution_count": 50,
   "metadata": {},
   "outputs": [
    {
     "data": {
      "text/plain": [
       "2"
      ]
     },
     "execution_count": 50,
     "metadata": {},
     "output_type": "execute_result"
    }
   ],
   "source": [
    "r = ReseauNeurones(1)\n",
    "r.relu(2)"
   ]
  },
  {
   "cell_type": "code",
   "execution_count": 51,
   "metadata": {},
   "outputs": [
    {
     "name": "stdout",
     "output_type": "stream",
     "text": [
      "[[-0.33077029 -0.57458017]\n",
      " [ 1.60649284  0.88979329]\n",
      " [-0.05168798  0.15210334]]\n"
     ]
    }
   ],
   "source": [
    "a = np.random.normal(size = (3,2))\n",
    "print(a)"
   ]
  },
  {
   "cell_type": "code",
   "execution_count": 52,
   "metadata": {},
   "outputs": [
    {
     "name": "stdout",
     "output_type": "stream",
     "text": [
      "[[-0.33077029 -0.57458017]\n",
      " [ 1.60649284  0.88979329]\n",
      " [-0.05168798  0.15210334]\n",
      " [ 1.          1.        ]]\n"
     ]
    }
   ],
   "source": [
    "A=[]\n",
    "test=np.append(a,[[1,1]],axis=0)\n",
    "print(test)"
   ]
  },
  {
   "cell_type": "code",
   "execution_count": null,
   "metadata": {},
   "outputs": [],
   "source": []
  },
  {
   "cell_type": "code",
   "execution_count": null,
   "metadata": {},
   "outputs": [],
   "source": []
  }
 ],
 "metadata": {
  "kernelspec": {
   "display_name": "Python 3",
   "language": "python",
   "name": "python3"
  },
  "language_info": {
   "codemirror_mode": {
    "name": "ipython",
    "version": 3
   },
   "file_extension": ".py",
   "mimetype": "text/x-python",
   "name": "python",
   "nbconvert_exporter": "python",
   "pygments_lexer": "ipython3",
   "version": "3.8.5"
  }
 },
 "nbformat": 4,
 "nbformat_minor": 4
}
